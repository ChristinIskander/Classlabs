{
 "cells": [
  {
   "cell_type": "code",
   "execution_count": 169,
   "id": "072f51bc",
   "metadata": {},
   "outputs": [],
   "source": [
    "import random "
   ]
  },
  {
   "cell_type": "code",
   "execution_count": 200,
   "id": "72ead084",
   "metadata": {},
   "outputs": [
    {
     "name": "stdout",
     "output_type": "stream",
     "text": [
      "[49, 4, 14, 28, 67, 90, 82, 44, 77, 5, 26, 1, 64, 31, 66, 72, 22, 45, 55, 96, 73, 32, 23, 56, 29, 47, 2, 65, 48, 79, 62, 70, 75, 13, 52, 40, 78, 42, 87, 25, 17, 68, 10, 12, 93, 50, 51, 41, 35, 83, 43, 71, 19, 86, 91, 30, 92, 38, 63, 24, 88, 20, 16, 85, 53, 76, 59, 39, 46, 60, 84, 21, 61, 81, 7, 94, 33, 27, 37, 54]\n"
     ]
    }
   ],
   "source": [
    "sample_list_1=random.sample(range(100), k=80)\n",
    "print(sample_list_1)"
   ]
  },
  {
   "cell_type": "code",
   "execution_count": 171,
   "id": "93317580",
   "metadata": {},
   "outputs": [
    {
     "data": {
      "text/plain": [
       "80"
      ]
     },
     "execution_count": 171,
     "metadata": {},
     "output_type": "execute_result"
    }
   ],
   "source": [
    "set1 = set(sample_list_1)\n",
    "len (set1)"
   ]
  },
  {
   "cell_type": "code",
   "execution_count": 172,
   "id": "d1c64417",
   "metadata": {},
   "outputs": [
    {
     "name": "stdout",
     "output_type": "stream",
     "text": [
      "[22, 42, 8, 28, 19, 28, 36, 28, 92, 53, 68, 49, 71, 28, 99, 58, 60, 75, 73, 62, 34, 32, 47, 21, 66, 70, 43, 58, 21, 7, 29, 34, 3, 55, 96, 43, 65, 74, 92, 75, 13, 14, 58, 33, 61, 81, 63, 2, 14, 76, 18, 37, 62, 62, 53, 33, 93, 83, 69, 45, 40, 41, 47, 76, 38, 94, 78, 3, 49, 29, 17, 66, 24, 26, 72, 89, 71, 5, 58, 32]\n"
     ]
    },
    {
     "data": {
      "text/plain": [
       "80"
      ]
     },
     "execution_count": 172,
     "metadata": {},
     "output_type": "execute_result"
    }
   ],
   "source": [
    "sample_list_2=[]\n",
    "for i in range (80):\n",
    "    sample_list_2.append(random.randint(1,100))\n",
    "print(sample_list_2) \n",
    "len(sample_list_2)"
   ]
  },
  {
   "cell_type": "code",
   "execution_count": 173,
   "id": "46955e1e",
   "metadata": {},
   "outputs": [
    {
     "data": {
      "text/plain": [
       "56"
      ]
     },
     "execution_count": 173,
     "metadata": {},
     "output_type": "execute_result"
    }
   ],
   "source": [
    "set2 = set(sample_list_2)\n",
    "set2\n",
    "len(set2)"
   ]
  },
  {
   "cell_type": "code",
   "execution_count": 174,
   "id": "9b839aff",
   "metadata": {},
   "outputs": [
    {
     "name": "stdout",
     "output_type": "stream",
     "text": [
      "{0, 1, 4, 6, 9, 10, 11, 12, 15, 16, 20, 23, 25, 27, 30, 44, 46, 48, 50, 51, 52, 54, 59, 67, 77, 80, 82, 84, 88, 90, 91, 95, 97, 98}\n"
     ]
    }
   ],
   "source": [
    "set3 = set1-set2\n",
    "print(set3)       "
   ]
  },
  {
   "cell_type": "code",
   "execution_count": 175,
   "id": "d3955eb1",
   "metadata": {},
   "outputs": [
    {
     "data": {
      "text/plain": [
       "{7, 40, 53, 55, 69, 75, 81, 83, 92, 94}"
      ]
     },
     "execution_count": 175,
     "metadata": {},
     "output_type": "execute_result"
    }
   ],
   "source": [
    "set4=set2-set1\n",
    "set4"
   ]
  },
  {
   "cell_type": "code",
   "execution_count": 176,
   "id": "8c21889e",
   "metadata": {},
   "outputs": [
    {
     "name": "stdout",
     "output_type": "stream",
     "text": [
      "[2, 3, 5, 8, 13, 14, 17, 18, 19, 21, 22, 24, 26, 28, 29, 32, 33, 34, 36, 37, 38, 41, 42, 43, 45, 47, 49, 58, 60, 61, 62, 63, 65, 66, 68, 70, 71, 72, 73, 74, 76, 78, 89, 93, 96, 99]\n"
     ]
    }
   ],
   "source": [
    "set5=[]\n",
    "for i in set1:\n",
    "    for n in set2:\n",
    "        if i == n:\n",
    "            set5.append(i)\n",
    "print(set5)           "
   ]
  },
  {
   "cell_type": "code",
   "execution_count": 177,
   "id": "b96e8af5",
   "metadata": {},
   "outputs": [
    {
     "data": {
      "text/plain": [
       "(80, 56, 34, 10, 46)"
      ]
     },
     "execution_count": 177,
     "metadata": {},
     "output_type": "execute_result"
    }
   ],
   "source": [
    "len(set1), len(set2),len(set3),len(set4),len(set5)"
   ]
  },
  {
   "cell_type": "code",
   "execution_count": 178,
   "id": "33b93c9f",
   "metadata": {},
   "outputs": [
    {
     "name": "stdout",
     "output_type": "stream",
     "text": [
      "{0, 1, 2, 3, 4, 5, 6, 8, 9, 10, 11, 12, 13, 14, 15, 16, 17, 18, 19, 20, 21, 22, 23, 24, 25, 26, 27, 28, 29, 30, 32, 33, 34, 36, 37, 38, 41, 42, 43, 44, 45, 46, 47, 48, 49, 50, 51, 52, 54, 58, 59, 60, 61, 62, 63, 65, 66, 67, 68, 70, 71, 72, 73, 74, 76, 77, 78, 80, 82, 84, 88, 89, 90, 91, 93, 95, 96, 97, 98, 99}\n"
     ]
    },
    {
     "data": {
      "text/plain": [
       "80"
      ]
     },
     "execution_count": 178,
     "metadata": {},
     "output_type": "execute_result"
    }
   ],
   "source": [
    "set6 = set()\n",
    "set6.update(set5)\n",
    "set6.update(set3)\n",
    "print(set6)\n",
    "len(set6)"
   ]
  },
  {
   "cell_type": "code",
   "execution_count": 179,
   "id": "88f4f905",
   "metadata": {},
   "outputs": [
    {
     "name": "stdout",
     "output_type": "stream",
     "text": [
      "They sre equal\n"
     ]
    }
   ],
   "source": [
    "if (len(set1)==len(set6)):\n",
    "    print(\"They sre equal\")\n",
    "else:\n",
    "    print(\"They are not equal\")"
   ]
  },
  {
   "cell_type": "code",
   "execution_count": 180,
   "id": "b04296c2",
   "metadata": {},
   "outputs": [
    {
     "data": {
      "text/plain": [
       "False"
      ]
     },
     "execution_count": 180,
     "metadata": {},
     "output_type": "execute_result"
    }
   ],
   "source": [
    "set1.issubset(set2)"
   ]
  },
  {
   "cell_type": "code",
   "execution_count": 181,
   "id": "1b72309d",
   "metadata": {},
   "outputs": [
    {
     "data": {
      "text/plain": [
       "False"
      ]
     },
     "execution_count": 181,
     "metadata": {},
     "output_type": "execute_result"
    }
   ],
   "source": [
    "set1.issubset(set3)"
   ]
  },
  {
   "cell_type": "code",
   "execution_count": 182,
   "id": "4c5bce84",
   "metadata": {},
   "outputs": [
    {
     "name": "stdout",
     "output_type": "stream",
     "text": [
      "{0, 1, 2, 3, 4, 5, 6, 7, 8, 9, 10, 11, 12, 13, 14, 15, 16, 17, 18, 19, 20, 21, 22, 23, 24, 25, 26, 27, 28, 29, 30, 32, 33, 34, 36, 37, 38, 40, 41, 42, 43, 44, 45, 46, 47, 48, 49, 50, 51, 52, 53, 54, 55, 58, 59, 60, 61, 62, 63, 65, 66, 67, 68, 69, 70, 71, 72, 73, 74, 75, 76, 77, 78, 80, 81, 82, 83, 84, 88, 89, 90, 91, 92, 93, 94, 95, 96, 97, 98, 99}\n"
     ]
    }
   ],
   "source": [
    "aggregate1=set3.union(set4)\n",
    "aggregate2=aggregate1.union(set5)\n",
    "print(aggregate2)"
   ]
  },
  {
   "cell_type": "code",
   "execution_count": 183,
   "id": "dd261af4",
   "metadata": {},
   "outputs": [
    {
     "name": "stdout",
     "output_type": "stream",
     "text": [
      "{0, 1, 2, 3, 4, 5, 6, 7, 8, 9, 10, 11, 12, 13, 14, 15, 16, 17, 18, 19, 20, 21, 22, 23, 24, 25, 26, 27, 28, 29, 30, 32, 33, 34, 36, 37, 38, 40, 41, 42, 43, 44, 45, 46, 47, 48, 49, 50, 51, 52, 53, 54, 55, 58, 59, 60, 61, 62, 63, 65, 66, 67, 68, 69, 70, 71, 72, 73, 74, 75, 76, 77, 78, 80, 81, 82, 83, 84, 88, 89, 90, 91, 92, 93, 94, 95, 96, 97, 98, 99}\n"
     ]
    }
   ],
   "source": [
    "aggregate3=set1.union(set2)\n",
    "print(aggregate3)"
   ]
  },
  {
   "cell_type": "code",
   "execution_count": 184,
   "id": "7ded298b",
   "metadata": {},
   "outputs": [
    {
     "data": {
      "text/plain": [
       "(90, 90)"
      ]
     },
     "execution_count": 184,
     "metadata": {},
     "output_type": "execute_result"
    }
   ],
   "source": [
    "len(aggregate2), len(aggregate2)"
   ]
  },
  {
   "cell_type": "code",
   "execution_count": 185,
   "id": "cbe0b3dd",
   "metadata": {},
   "outputs": [
    {
     "name": "stdout",
     "output_type": "stream",
     "text": [
      "{0, 1, 2, 3, 4, 5, 6, 8, 9, 10, 11, 12, 13, 14, 15, 16, 17, 18, 19, 20, 21, 22, 23, 24, 25, 26, 27, 28, 29, 30, 32, 33, 34, 36, 37, 38, 41, 42, 43, 44, 45, 46, 47, 48, 49, 50, 51, 52, 54, 58, 59, 60, 61, 62, 63, 65, 66, 67, 68, 70, 71, 72, 73, 74, 76, 77, 78, 80, 82, 84, 88, 89, 90, 91, 93, 95, 96, 97, 98, 99}\n"
     ]
    }
   ],
   "source": [
    "print(set1)"
   ]
  },
  {
   "cell_type": "code",
   "execution_count": 186,
   "id": "2f367854",
   "metadata": {},
   "outputs": [
    {
     "data": {
      "text/plain": [
       "0"
      ]
     },
     "execution_count": 186,
     "metadata": {},
     "output_type": "execute_result"
    }
   ],
   "source": [
    "set1.pop()"
   ]
  },
  {
   "cell_type": "code",
   "execution_count": 197,
   "id": "9a5de3a2",
   "metadata": {},
   "outputs": [
    {
     "name": "stdout",
     "output_type": "stream",
     "text": [
      "{1, 9, 11, 19, 21, 29, 31, 39, 41, 49, 51, 59, 61, 69, 71, 79, 81, 89, 91, 99}\n"
     ]
    }
   ],
   "source": [
    "list_to_remove =(1, 9, 11, 19, 21, 29, 31, 39, 41, 49, 51, 59, 61, 69, 71, 79, 81, 89, 91, 99)\n",
    "removed = set(list_to_remove)\n",
    "print(removed)"
   ]
  },
  {
   "cell_type": "code",
   "execution_count": 199,
   "id": "6c3619d9",
   "metadata": {},
   "outputs": [
    {
     "name": "stdout",
     "output_type": "stream",
     "text": [
      "{2, 3, 4, 5, 6, 8, 10, 12, 13, 14, 15, 16, 17, 18, 20, 22, 23, 24, 25, 26, 27, 28, 30, 32, 33, 34, 36, 37, 38, 42, 43, 44, 45, 46, 47, 48, 50, 52, 54, 58, 60, 62, 63, 65, 66, 67, 68, 70, 72, 73, 74, 76, 77, 78, 80, 82, 84, 88, 90, 93, 95, 96, 97, 98}\n"
     ]
    }
   ],
   "source": [
    "print(set1 - removed)\n"
   ]
  },
  {
   "cell_type": "code",
   "execution_count": null,
   "id": "33d4a18f",
   "metadata": {},
   "outputs": [],
   "source": []
  }
 ],
 "metadata": {
  "kernelspec": {
   "display_name": "Python 3 (ipykernel)",
   "language": "python",
   "name": "python3"
  },
  "language_info": {
   "codemirror_mode": {
    "name": "ipython",
    "version": 3
   },
   "file_extension": ".py",
   "mimetype": "text/x-python",
   "name": "python",
   "nbconvert_exporter": "python",
   "pygments_lexer": "ipython3",
   "version": "3.9.7"
  }
 },
 "nbformat": 4,
 "nbformat_minor": 5
}
