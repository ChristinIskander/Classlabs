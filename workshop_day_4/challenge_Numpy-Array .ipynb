{
 "cells": [
  {
   "cell_type": "markdown",
   "id": "f3db06d3",
   "metadata": {},
   "source": [
    "1. Import the numpy package under the name np\n",
    "2. Create a null vector of size 10\n",
    "3. Create a null vector of size 10 but the fifth value which is 1"
   ]
  },
  {
   "cell_type": "code",
   "execution_count": 74,
   "id": "a695573e",
   "metadata": {},
   "outputs": [
    {
     "name": "stdout",
     "output_type": "stream",
     "text": [
      "[0. 0. 0. 0. 1. 0. 0. 0. 0. 0.]\n"
     ]
    }
   ],
   "source": [
    "import numpy as np\n",
    "vec=np.zeros(10)\n",
    "vec[4]=1\n",
    "print(vec)"
   ]
  },
  {
   "cell_type": "markdown",
   "id": "d17fed0c",
   "metadata": {},
   "source": [
    "4. Create a vector with values ranging from 10 to 49"
   ]
  },
  {
   "cell_type": "code",
   "execution_count": 75,
   "id": "bf576b14",
   "metadata": {},
   "outputs": [
    {
     "data": {
      "text/plain": [
       "array([10, 11, 12, 13, 14, 15, 16, 17, 18, 19, 20, 21, 22, 23, 24, 25, 26,\n",
       "       27, 28, 29, 30, 31, 32, 33, 34, 35, 36, 37, 38, 39, 40, 41, 42, 43,\n",
       "       44, 45, 46, 47, 48, 49])"
      ]
     },
     "execution_count": 75,
     "metadata": {},
     "output_type": "execute_result"
    }
   ],
   "source": [
    "new_vec=np.arange(10,50)\n",
    "new_vec"
   ]
  },
  {
   "cell_type": "markdown",
   "id": "6f970a20",
   "metadata": {},
   "source": [
    "5. Create a 3x3 matrix with values ranging from 0 to 8"
   ]
  },
  {
   "cell_type": "code",
   "execution_count": 76,
   "id": "e5f0dde4",
   "metadata": {},
   "outputs": [
    {
     "data": {
      "text/plain": [
       "array([[0, 1, 2],\n",
       "       [3, 4, 5],\n",
       "       [6, 7, 8]])"
      ]
     },
     "execution_count": 76,
     "metadata": {},
     "output_type": "execute_result"
    }
   ],
   "source": [
    "matrix=np.arange(0,9).reshape(3,3)\n",
    "matrix"
   ]
  },
  {
   "cell_type": "markdown",
   "id": "f77a23a5",
   "metadata": {},
   "source": [
    "6. Find indices of non-zero elements from [1,2,0,0,4,0]"
   ]
  },
  {
   "cell_type": "code",
   "execution_count": 77,
   "id": "a455e9e0",
   "metadata": {},
   "outputs": [
    {
     "data": {
      "text/plain": [
       "(array([0, 1, 4]),)"
      ]
     },
     "execution_count": 77,
     "metadata": {},
     "output_type": "execute_result"
    }
   ],
   "source": [
    "np.nonzero((1,2,0,0,4,0))"
   ]
  },
  {
   "cell_type": "markdown",
   "id": "b3aa512e",
   "metadata": {},
   "source": [
    "7. Create a 3x3 identity matrix"
   ]
  },
  {
   "cell_type": "code",
   "execution_count": 78,
   "id": "4101fd2f",
   "metadata": {},
   "outputs": [
    {
     "data": {
      "text/plain": [
       "array([[1., 0., 0.],\n",
       "       [0., 1., 0.],\n",
       "       [0., 0., 1.]])"
      ]
     },
     "execution_count": 78,
     "metadata": {},
     "output_type": "execute_result"
    }
   ],
   "source": [
    "identity_matrix=np.eye(3,3)\n",
    "identity_matrix"
   ]
  },
  {
   "cell_type": "markdown",
   "id": "1227d2b6",
   "metadata": {},
   "source": [
    "8. Create a 3x3x3 array with random values"
   ]
  },
  {
   "cell_type": "code",
   "execution_count": 79,
   "id": "bc9603de",
   "metadata": {},
   "outputs": [
    {
     "data": {
      "text/plain": [
       "array([[[0.81234651, 0.01955667, 0.23782747],\n",
       "        [0.18081059, 0.53639747, 0.52448326],\n",
       "        [0.27573983, 0.62725286, 0.79134847]],\n",
       "\n",
       "       [[0.38058511, 0.16587473, 0.02072694],\n",
       "        [0.51689342, 0.78939708, 0.74033709],\n",
       "        [0.99552587, 0.17722825, 0.82183774]],\n",
       "\n",
       "       [[0.33840334, 0.96906757, 0.57803661],\n",
       "        [0.19311941, 0.61212322, 0.83507833],\n",
       "        [0.21746159, 0.03008617, 0.44584123]]])"
      ]
     },
     "execution_count": 79,
     "metadata": {},
     "output_type": "execute_result"
    }
   ],
   "source": [
    "d=np.random.random((3,3,3))\n",
    "d"
   ]
  },
  {
   "cell_type": "markdown",
   "id": "50ec345d",
   "metadata": {},
   "source": [
    "9. Create a 10x10 array with random values and find the minimum and maximum values"
   ]
  },
  {
   "cell_type": "code",
   "execution_count": 80,
   "id": "74195af9",
   "metadata": {},
   "outputs": [
    {
     "data": {
      "text/plain": [
       "array([[0.93980198, 0.08855961, 0.57466275, 0.80034603, 0.30896384,\n",
       "        0.58787648, 0.40831444, 0.48347145, 0.24751906, 0.10813898],\n",
       "       [0.08658371, 0.20060866, 0.00787666, 0.7348794 , 0.22871958,\n",
       "        0.21586223, 0.85461567, 0.55849291, 0.65121681, 0.79354624],\n",
       "       [0.09402774, 0.87600863, 0.87846119, 0.29372068, 0.13688725,\n",
       "        0.17927334, 0.19227255, 0.92557273, 0.06580327, 0.28332451],\n",
       "       [0.35852177, 0.68668241, 0.12644437, 0.26872658, 0.44326184,\n",
       "        0.3945672 , 0.08509473, 0.06831314, 0.98820639, 0.91517846],\n",
       "       [0.46927356, 0.33431628, 0.56252052, 0.50636529, 0.97995448,\n",
       "        0.48388544, 0.83580283, 0.44455454, 0.67949418, 0.670519  ],\n",
       "       [0.90282986, 0.72390981, 0.27324187, 0.97014303, 0.66635544,\n",
       "        0.27304936, 0.87277577, 0.16056643, 0.82546213, 0.61017364],\n",
       "       [0.29548952, 0.84169606, 0.34136433, 0.02985761, 0.19479327,\n",
       "        0.97267878, 0.52367882, 0.39884686, 0.45056019, 0.72441047],\n",
       "       [0.67291871, 0.18311665, 0.87018578, 0.04773462, 0.72254835,\n",
       "        0.39854642, 0.23376808, 0.35105395, 0.30400313, 0.60926401],\n",
       "       [0.18957233, 0.0210223 , 0.47268282, 0.58486993, 0.34087633,\n",
       "        0.22220595, 0.08178247, 0.80460524, 0.22495317, 0.08008101],\n",
       "       [0.75629845, 0.33843734, 0.49950036, 0.95178907, 0.22554739,\n",
       "        0.82488678, 0.30466615, 0.06695028, 0.95483746, 0.70825864]])"
      ]
     },
     "execution_count": 80,
     "metadata": {},
     "output_type": "execute_result"
    }
   ],
   "source": [
    "x=np.random.random((10,10))\n",
    "x"
   ]
  },
  {
   "cell_type": "code",
   "execution_count": 81,
   "id": "9f46b62c",
   "metadata": {},
   "outputs": [
    {
     "name": "stdout",
     "output_type": "stream",
     "text": [
      "0.9882063917586862 0.007876656883005095\n"
     ]
    }
   ],
   "source": [
    "print(np.amax(x),np.amin(x))"
   ]
  },
  {
   "cell_type": "markdown",
   "id": "b684e3d7",
   "metadata": {},
   "source": [
    "10. Create a random vector of size 30 and find the mean value"
   ]
  },
  {
   "cell_type": "code",
   "execution_count": 82,
   "id": "5df9affb",
   "metadata": {},
   "outputs": [
    {
     "data": {
      "text/plain": [
       "array([0.46443777, 0.33736331, 0.84058083, 0.84653864, 0.17046319,\n",
       "       0.82036664, 0.01169826, 0.53667064, 0.51756101, 0.64858953,\n",
       "       0.07693892, 0.47646043, 0.84158552, 0.89930419, 0.41713168,\n",
       "       0.6432358 , 0.59780492, 0.57276462, 0.95338071, 0.18487419,\n",
       "       0.15760427, 0.75478212, 0.32061677, 0.83917117, 0.42240592,\n",
       "       0.73057681, 0.4055209 , 0.78858218, 0.17119303, 0.02303131])"
      ]
     },
     "execution_count": 82,
     "metadata": {},
     "output_type": "execute_result"
    }
   ],
   "source": [
    "rand_vec=np.random.random(30)\n",
    "rand_vec"
   ]
  },
  {
   "cell_type": "code",
   "execution_count": 83,
   "id": "79ba26f0",
   "metadata": {},
   "outputs": [
    {
     "data": {
      "text/plain": [
       "0.515707841938574"
      ]
     },
     "execution_count": 83,
     "metadata": {},
     "output_type": "execute_result"
    }
   ],
   "source": [
    "np.mean(rand_vec)"
   ]
  },
  {
   "cell_type": "markdown",
   "id": "8c6105dc",
   "metadata": {},
   "source": [
    "Create a 5x5 matrix with values 1,2,3,4 just below the diagonal "
   ]
  },
  {
   "cell_type": "code",
   "execution_count": 84,
   "id": "74460cea",
   "metadata": {},
   "outputs": [
    {
     "data": {
      "text/plain": [
       "array([[0, 0, 0, 0, 0],\n",
       "       [1, 0, 0, 0, 0],\n",
       "       [0, 2, 0, 0, 0],\n",
       "       [0, 0, 3, 0, 0],\n",
       "       [0, 0, 0, 4, 0]])"
      ]
     },
     "execution_count": 84,
     "metadata": {},
     "output_type": "execute_result"
    }
   ],
   "source": [
    "m=np.diag(np.arange(1,5), k=-1)\n",
    "m"
   ]
  },
  {
   "cell_type": "markdown",
   "id": "9b613e41",
   "metadata": {},
   "source": [
    "12. Normalize a 5x5 random matrix "
   ]
  },
  {
   "cell_type": "code",
   "execution_count": 92,
   "id": "caa834e6",
   "metadata": {},
   "outputs": [
    {
     "data": {
      "text/plain": [
       "array([[0.63913829, 0.8768217 , 0.6957523 , 0.57321469, 0.93026023],\n",
       "       [0.66675548, 0.5938222 , 0.42796707, 0.39449394, 0.32463842],\n",
       "       [0.55325498, 0.23120263, 0.06662993, 0.96658589, 0.64276394],\n",
       "       [0.63648023, 0.09440107, 0.70122817, 0.66165283, 0.07186673],\n",
       "       [0.74574789, 0.41332772, 0.63456238, 0.50005035, 0.12934189]])"
      ]
     },
     "execution_count": 92,
     "metadata": {},
     "output_type": "execute_result"
    }
   ],
   "source": [
    "c=np.random.random((5,5))\n",
    "c"
   ]
  },
  {
   "cell_type": "code",
   "execution_count": 94,
   "id": "6710fa6a",
   "metadata": {},
   "outputs": [
    {
     "data": {
      "text/plain": [
       "array([[4.65592012, 4.89360352, 4.71253412, 4.58999652, 4.94704206],\n",
       "       [4.6835373 , 4.61060403, 4.4447489 , 4.41127577, 4.34142025],\n",
       "       [4.57003681, 4.24798446, 4.08341175, 4.98336772, 4.65954577],\n",
       "       [4.65326205, 4.1111829 , 4.71801   , 4.67843466, 4.08864856],\n",
       "       [4.76252972, 4.43010955, 4.65134421, 4.51683218, 4.14612372]])"
      ]
     },
     "execution_count": 94,
     "metadata": {},
     "output_type": "execute_result"
    }
   ],
   "source": [
    "c=(c-(np.mean(c))/np.std(c))\n",
    "c"
   ]
  },
  {
   "cell_type": "markdown",
   "id": "4e31ea57",
   "metadata": {},
   "source": [
    "13. How to find common values between two arrays?"
   ]
  },
  {
   "cell_type": "code",
   "execution_count": 97,
   "id": "d800eedb",
   "metadata": {},
   "outputs": [
    {
     "data": {
      "text/plain": [
       "array([3, 7, 9])"
      ]
     },
     "execution_count": 97,
     "metadata": {},
     "output_type": "execute_result"
    }
   ],
   "source": [
    "array1=([1,2,3,4,5,6,7,8,9,])\n",
    "array2=([3,11,12,13,9,14,15,16,7,18,20])\n",
    "np.intersect1d(array1,array2)"
   ]
  },
  {
   "cell_type": "markdown",
   "id": "2c4afa53",
   "metadata": {},
   "source": [
    "14. Create a random vector of size 10 and sort it\n",
    "15. and replace the maximum value by 0 "
   ]
  },
  {
   "cell_type": "code",
   "execution_count": 137,
   "id": "cc4b8f88",
   "metadata": {},
   "outputs": [
    {
     "data": {
      "text/plain": [
       "array([0.02022313, 0.35540705, 0.37660878, 0.55452614, 0.82445068,\n",
       "       0.83285995, 0.85721435, 0.8607281 , 0.88278943, 0.90236499])"
      ]
     },
     "execution_count": 137,
     "metadata": {},
     "output_type": "execute_result"
    }
   ],
   "source": [
    "f=np.random.random(10)\n",
    "np.sort(f)"
   ]
  },
  {
   "cell_type": "code",
   "execution_count": 138,
   "id": "8dcf2b90",
   "metadata": {},
   "outputs": [
    {
     "data": {
      "text/plain": [
       "array([0.8607281 , 0.88278943, 0.37660878, 0.82445068, 0.55452614,\n",
       "       0.02022313, 0.85721435, 0.35540705, 0.        , 0.83285995])"
      ]
     },
     "execution_count": 138,
     "metadata": {},
     "output_type": "execute_result"
    }
   ],
   "source": [
    "f[np.argmax(f)]=0\n",
    "f"
   ]
  },
  {
   "cell_type": "markdown",
   "id": "c9f7eca1",
   "metadata": {},
   "source": [
    "16. Subtract the mean of each row of a matrix"
   ]
  },
  {
   "cell_type": "code",
   "execution_count": 142,
   "id": "c14bea49",
   "metadata": {},
   "outputs": [
    {
     "data": {
      "text/plain": [
       "array([ 0.30424734,  0.32630867, -0.17987198,  0.26796992, -0.00195462,\n",
       "       -0.53625763,  0.30073359, -0.20107371, -0.55648076,  0.27637919])"
      ]
     },
     "execution_count": 142,
     "metadata": {},
     "output_type": "execute_result"
    }
   ],
   "source": [
    "b = f-f.mean(axis=0,keepdims=True)\n",
    "b"
   ]
  },
  {
   "cell_type": "markdown",
   "id": "0ae1dc26",
   "metadata": {},
   "source": [
    "17. How to get the n largest values of an array"
   ]
  },
  {
   "cell_type": "code",
   "execution_count": 151,
   "id": "84b42ae9",
   "metadata": {},
   "outputs": [
    {
     "data": {
      "text/plain": [
       "array([9995, 9996, 9997, 9998, 9999])"
      ]
     },
     "execution_count": 151,
     "metadata": {},
     "output_type": "execute_result"
    }
   ],
   "source": [
    "Z = np.arange(10000) \n",
    "np.random.shuffle(Z) \n",
    "n = 5\n",
    "Z[np.argsort(Z)[-n:]]"
   ]
  },
  {
   "cell_type": "markdown",
   "id": "a3bdac89",
   "metadata": {},
   "source": [
    "18. Create a random 5*3 matrix and replace items that are larger than 4 by their squares ( Example: 6 --> 36)"
   ]
  },
  {
   "cell_type": "code",
   "execution_count": 195,
   "id": "bd0fa2de",
   "metadata": {},
   "outputs": [
    {
     "data": {
      "text/plain": [
       "array([[ 1,  2,  3],\n",
       "       [ 4,  5,  6],\n",
       "       [ 7,  8,  9],\n",
       "       [10, 11, 12],\n",
       "       [13, 14, 15]])"
      ]
     },
     "execution_count": 195,
     "metadata": {},
     "output_type": "execute_result"
    }
   ],
   "source": [
    "t=np.arange(1,16).reshape(5,3)\n",
    "t"
   ]
  },
  {
   "cell_type": "code",
   "execution_count": 196,
   "id": "b9d82fa8",
   "metadata": {},
   "outputs": [
    {
     "data": {
      "text/plain": [
       "array([[  1,   2,   3],\n",
       "       [  4,  25,  36],\n",
       "       [ 49,  64,  81],\n",
       "       [100, 121, 144],\n",
       "       [169, 196, 225]])"
      ]
     },
     "execution_count": 196,
     "metadata": {},
     "output_type": "execute_result"
    }
   ],
   "source": [
    "np.where(t>4,t**2,t)"
   ]
  }
 ],
 "metadata": {
  "kernelspec": {
   "display_name": "Python 3 (ipykernel)",
   "language": "python",
   "name": "python3"
  },
  "language_info": {
   "codemirror_mode": {
    "name": "ipython",
    "version": 3
   },
   "file_extension": ".py",
   "mimetype": "text/x-python",
   "name": "python",
   "nbconvert_exporter": "python",
   "pygments_lexer": "ipython3",
   "version": "3.9.7"
  }
 },
 "nbformat": 4,
 "nbformat_minor": 5
}
