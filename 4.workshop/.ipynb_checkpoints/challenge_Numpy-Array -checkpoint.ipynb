{
 "cells": [
  {
   "cell_type": "markdown",
   "id": "f3db06d3",
   "metadata": {},
   "source": [
    "1. Import the numpy package under the name np\n",
    "2. Create a null vector of size 10\n",
    "3. Create a null vector of size 10 but the fifth value which is 1"
   ]
  },
  {
   "cell_type": "code",
   "execution_count": 1,
   "id": "a695573e",
   "metadata": {},
   "outputs": [
    {
     "name": "stdout",
     "output_type": "stream",
     "text": [
      "[0. 0. 0. 0. 1. 0. 0. 0. 0. 0.]\n"
     ]
    }
   ],
   "source": [
    "import numpy as np\n",
    "vec=np.zeros(10)\n",
    "vec[4]=1\n",
    "print(vec)"
   ]
  },
  {
   "cell_type": "markdown",
   "id": "d17fed0c",
   "metadata": {},
   "source": [
    "4. Create a vector with values ranging from 10 to 49"
   ]
  },
  {
   "cell_type": "code",
   "execution_count": 2,
   "id": "bf576b14",
   "metadata": {},
   "outputs": [
    {
     "data": {
      "text/plain": [
       "array([10, 11, 12, 13, 14, 15, 16, 17, 18, 19, 20, 21, 22, 23, 24, 25, 26,\n",
       "       27, 28, 29, 30, 31, 32, 33, 34, 35, 36, 37, 38, 39, 40, 41, 42, 43,\n",
       "       44, 45, 46, 47, 48, 49])"
      ]
     },
     "execution_count": 2,
     "metadata": {},
     "output_type": "execute_result"
    }
   ],
   "source": [
    "new_vec=np.arange(10,50)\n",
    "new_vec"
   ]
  },
  {
   "cell_type": "markdown",
   "id": "6f970a20",
   "metadata": {},
   "source": [
    "5. Create a 3x3 matrix with values ranging from 0 to 8"
   ]
  },
  {
   "cell_type": "code",
   "execution_count": 3,
   "id": "e5f0dde4",
   "metadata": {},
   "outputs": [
    {
     "data": {
      "text/plain": [
       "array([[0, 1, 2],\n",
       "       [3, 4, 5],\n",
       "       [6, 7, 8]])"
      ]
     },
     "execution_count": 3,
     "metadata": {},
     "output_type": "execute_result"
    }
   ],
   "source": [
    "matrix=np.arange(0,9).reshape(3,3)\n",
    "matrix"
   ]
  },
  {
   "cell_type": "markdown",
   "id": "f77a23a5",
   "metadata": {},
   "source": [
    "6. Find indices of non-zero elements from [1,2,0,0,4,0]"
   ]
  },
  {
   "cell_type": "code",
   "execution_count": 4,
   "id": "a455e9e0",
   "metadata": {},
   "outputs": [
    {
     "data": {
      "text/plain": [
       "(array([0, 1, 4]),)"
      ]
     },
     "execution_count": 4,
     "metadata": {},
     "output_type": "execute_result"
    }
   ],
   "source": [
    "np.nonzero((1,2,0,0,4,0))"
   ]
  },
  {
   "cell_type": "markdown",
   "id": "b3aa512e",
   "metadata": {},
   "source": [
    "7. Create a 3x3 identity matrix"
   ]
  },
  {
   "cell_type": "code",
   "execution_count": 5,
   "id": "4101fd2f",
   "metadata": {},
   "outputs": [
    {
     "data": {
      "text/plain": [
       "array([[1., 0., 0.],\n",
       "       [0., 1., 0.],\n",
       "       [0., 0., 1.]])"
      ]
     },
     "execution_count": 5,
     "metadata": {},
     "output_type": "execute_result"
    }
   ],
   "source": [
    "identity_matrix=np.eye(3,3)\n",
    "identity_matrix"
   ]
  },
  {
   "cell_type": "markdown",
   "id": "1227d2b6",
   "metadata": {},
   "source": [
    "8. Create a 3x3x3 array with random values"
   ]
  },
  {
   "cell_type": "code",
   "execution_count": 6,
   "id": "bc9603de",
   "metadata": {},
   "outputs": [
    {
     "data": {
      "text/plain": [
       "array([[[0.86109328, 0.91617961, 0.98161977],\n",
       "        [0.94417784, 0.00916776, 0.59035357],\n",
       "        [0.70961723, 0.90894892, 0.88218909]],\n",
       "\n",
       "       [[0.34762809, 0.74679432, 0.4195588 ],\n",
       "        [0.02086828, 0.92260891, 0.10971974],\n",
       "        [0.19727689, 0.69307766, 0.33571788]],\n",
       "\n",
       "       [[0.65877688, 0.92830048, 0.47266665],\n",
       "        [0.98640599, 0.28891298, 0.89370983],\n",
       "        [0.89040054, 0.74705461, 0.98673587]]])"
      ]
     },
     "execution_count": 6,
     "metadata": {},
     "output_type": "execute_result"
    }
   ],
   "source": [
    "d=np.random.random((3,3,3))\n",
    "d"
   ]
  },
  {
   "cell_type": "markdown",
   "id": "50ec345d",
   "metadata": {},
   "source": [
    "9. Create a 10x10 array with random values and find the minimum and maximum values"
   ]
  },
  {
   "cell_type": "code",
   "execution_count": 7,
   "id": "74195af9",
   "metadata": {},
   "outputs": [
    {
     "data": {
      "text/plain": [
       "array([[0.57258265, 0.12116427, 0.49309166, 0.65152471, 0.93140652,\n",
       "        0.37106219, 0.86555307, 0.11694963, 0.65049602, 0.86670345],\n",
       "       [0.98533205, 0.2980948 , 0.60876127, 0.93186957, 0.46063537,\n",
       "        0.67810509, 0.95360887, 0.1128844 , 0.10331809, 0.98996422],\n",
       "       [0.17937912, 0.87673846, 0.8803843 , 0.84692113, 0.37773359,\n",
       "        0.1434256 , 0.35997901, 0.99436134, 0.45233681, 0.08700658],\n",
       "       [0.38222852, 0.60231865, 0.38612447, 0.03500948, 0.62250837,\n",
       "        0.31280467, 0.17159783, 0.46680124, 0.70436263, 0.45416409],\n",
       "       [0.5033432 , 0.77405282, 0.42120305, 0.28159445, 0.17398029,\n",
       "        0.73420696, 0.51835225, 0.12044373, 0.88730241, 0.13402657],\n",
       "       [0.46069317, 0.75161   , 0.92315727, 0.95878008, 0.32897506,\n",
       "        0.97563917, 0.20934333, 0.17250554, 0.5774761 , 0.0470452 ],\n",
       "       [0.22577234, 0.50645664, 0.55056811, 0.20119591, 0.78037746,\n",
       "        0.43839881, 0.91812719, 0.80751316, 0.82947091, 0.35790872],\n",
       "       [0.76955658, 0.93162732, 0.25540082, 0.65900613, 0.49645504,\n",
       "        0.05325178, 0.95802332, 0.95779748, 0.15972552, 0.60671228],\n",
       "       [0.798576  , 0.85216959, 0.71905727, 0.19535445, 0.47217604,\n",
       "        0.20433503, 0.04752194, 0.82862663, 0.62644167, 0.83431492],\n",
       "       [0.41411661, 0.0091548 , 0.95798587, 0.29395076, 0.86036073,\n",
       "        0.00149626, 0.26588972, 0.88380333, 0.02968749, 0.52732461]])"
      ]
     },
     "execution_count": 7,
     "metadata": {},
     "output_type": "execute_result"
    }
   ],
   "source": [
    "x=np.random.random((10,10))\n",
    "x"
   ]
  },
  {
   "cell_type": "code",
   "execution_count": 8,
   "id": "9f46b62c",
   "metadata": {},
   "outputs": [
    {
     "name": "stdout",
     "output_type": "stream",
     "text": [
      "0.9943613354346879 0.001496263649796492\n"
     ]
    }
   ],
   "source": [
    "print(np.amax(x),np.amin(x))"
   ]
  },
  {
   "cell_type": "markdown",
   "id": "b684e3d7",
   "metadata": {},
   "source": [
    "10. Create a random vector of size 30 and find the mean value"
   ]
  },
  {
   "cell_type": "code",
   "execution_count": 9,
   "id": "5df9affb",
   "metadata": {},
   "outputs": [
    {
     "data": {
      "text/plain": [
       "array([0.50155566, 0.24295272, 0.07556939, 0.84701064, 0.66437338,\n",
       "       0.83347678, 0.96224232, 0.86719541, 0.40071372, 0.69794275,\n",
       "       0.05620853, 0.39401374, 0.10777315, 0.86683789, 0.764677  ,\n",
       "       0.67325147, 0.34303075, 0.85647974, 0.76901173, 0.07522736,\n",
       "       0.63478932, 0.83841727, 0.74223384, 0.03657312, 0.96119785,\n",
       "       0.91412053, 0.60153252, 0.57951   , 0.68719781, 0.79149219])"
      ]
     },
     "execution_count": 9,
     "metadata": {},
     "output_type": "execute_result"
    }
   ],
   "source": [
    "rand_vec=np.random.random(30)\n",
    "rand_vec"
   ]
  },
  {
   "cell_type": "code",
   "execution_count": 10,
   "id": "79ba26f0",
   "metadata": {},
   "outputs": [
    {
     "data": {
      "text/plain": [
       "0.5928869521027951"
      ]
     },
     "execution_count": 10,
     "metadata": {},
     "output_type": "execute_result"
    }
   ],
   "source": [
    "np.mean(rand_vec)"
   ]
  },
  {
   "cell_type": "markdown",
   "id": "8c6105dc",
   "metadata": {},
   "source": [
    "Create a 5x5 matrix with values 1,2,3,4 just below the diagonal "
   ]
  },
  {
   "cell_type": "code",
   "execution_count": 11,
   "id": "74460cea",
   "metadata": {},
   "outputs": [
    {
     "data": {
      "text/plain": [
       "array([[0, 0, 0, 0, 0],\n",
       "       [1, 0, 0, 0, 0],\n",
       "       [0, 2, 0, 0, 0],\n",
       "       [0, 0, 3, 0, 0],\n",
       "       [0, 0, 0, 4, 0]])"
      ]
     },
     "execution_count": 11,
     "metadata": {},
     "output_type": "execute_result"
    }
   ],
   "source": [
    "m=np.diag(np.arange(1,5), k=-1)\n",
    "m"
   ]
  },
  {
   "cell_type": "markdown",
   "id": "9b613e41",
   "metadata": {},
   "source": [
    "12. Normalize a 5x5 random matrix "
   ]
  },
  {
   "cell_type": "code",
   "execution_count": 12,
   "id": "caa834e6",
   "metadata": {},
   "outputs": [
    {
     "data": {
      "text/plain": [
       "array([[0.81965426, 0.48309699, 0.67249336, 0.09862691, 0.25569824],\n",
       "       [0.60902446, 0.30455827, 0.45407372, 0.86086725, 0.10246731],\n",
       "       [0.40192221, 0.93695174, 0.56982896, 0.07713173, 0.29201226],\n",
       "       [0.87856557, 0.76410124, 0.77633817, 0.61293354, 0.8563977 ],\n",
       "       [0.11776716, 0.06106494, 0.21851359, 0.43989794, 0.68705261]])"
      ]
     },
     "execution_count": 12,
     "metadata": {},
     "output_type": "execute_result"
    }
   ],
   "source": [
    "c=np.random.random((5,5))\n",
    "c"
   ]
  },
  {
   "cell_type": "code",
   "execution_count": 13,
   "id": "6710fa6a",
   "metadata": {},
   "outputs": [
    {
     "data": {
      "text/plain": [
       "array([[-0.92449212, -1.26104939, -1.07165302, -1.64551948, -1.48844814],\n",
       "       [-1.13512192, -1.43958811, -1.29007266, -0.88327913, -1.64167907],\n",
       "       [-1.34222417, -0.80719464, -1.17431742, -1.66701465, -1.45213412],\n",
       "       [-0.86558081, -0.98004515, -0.96780821, -1.13121284, -0.88774868],\n",
       "       [-1.62637922, -1.68308145, -1.5256328 , -1.30424844, -1.05709377]])"
      ]
     },
     "execution_count": 13,
     "metadata": {},
     "output_type": "execute_result"
    }
   ],
   "source": [
    "c=(c-(np.mean(c))/np.std(c))\n",
    "c"
   ]
  },
  {
   "cell_type": "markdown",
   "id": "4e31ea57",
   "metadata": {},
   "source": [
    "13. How to find common values between two arrays?"
   ]
  },
  {
   "cell_type": "code",
   "execution_count": 14,
   "id": "d800eedb",
   "metadata": {},
   "outputs": [
    {
     "data": {
      "text/plain": [
       "array([3, 7, 9])"
      ]
     },
     "execution_count": 14,
     "metadata": {},
     "output_type": "execute_result"
    }
   ],
   "source": [
    "array1=([1,2,3,4,5,6,7,8,9,])\n",
    "array2=([3,11,12,13,9,14,15,16,7,18,20])\n",
    "np.intersect1d(array1,array2)"
   ]
  },
  {
   "cell_type": "markdown",
   "id": "2c4afa53",
   "metadata": {},
   "source": [
    "14. Create a random vector of size 10 and sort it\n",
    "15. and replace the maximum value by 0 "
   ]
  },
  {
   "cell_type": "code",
   "execution_count": 15,
   "id": "cc4b8f88",
   "metadata": {},
   "outputs": [
    {
     "data": {
      "text/plain": [
       "array([0.0184845 , 0.02082146, 0.19023424, 0.21310951, 0.34384771,\n",
       "       0.68627935, 0.7732667 , 0.8370133 , 0.91840901, 0.94960807])"
      ]
     },
     "execution_count": 15,
     "metadata": {},
     "output_type": "execute_result"
    }
   ],
   "source": [
    "f=np.random.random(10)\n",
    "np.sort(f)"
   ]
  },
  {
   "cell_type": "code",
   "execution_count": 16,
   "id": "8dcf2b90",
   "metadata": {},
   "outputs": [
    {
     "data": {
      "text/plain": [
       "array([0.19023424, 0.68627935, 0.91840901, 0.7732667 , 0.8370133 ,\n",
       "       0.        , 0.34384771, 0.21310951, 0.0184845 , 0.02082146])"
      ]
     },
     "execution_count": 16,
     "metadata": {},
     "output_type": "execute_result"
    }
   ],
   "source": [
    "f[np.argmax(f)]=0\n",
    "f"
   ]
  },
  {
   "cell_type": "markdown",
   "id": "c9f7eca1",
   "metadata": {},
   "source": [
    "16. Subtract the mean of each row of a matrix"
   ]
  },
  {
   "cell_type": "code",
   "execution_count": 17,
   "id": "c14bea49",
   "metadata": {},
   "outputs": [
    {
     "data": {
      "text/plain": [
       "array([-0.20991233,  0.28613277,  0.51826243,  0.37312012,  0.43686672,\n",
       "       -0.40014658, -0.05629887, -0.18703707, -0.38166208, -0.37932511])"
      ]
     },
     "execution_count": 17,
     "metadata": {},
     "output_type": "execute_result"
    }
   ],
   "source": [
    "b = f-f.mean(axis=0,keepdims=True)\n",
    "b"
   ]
  },
  {
   "cell_type": "markdown",
   "id": "0ae1dc26",
   "metadata": {},
   "source": [
    "17. How to get the n largest values of an array"
   ]
  },
  {
   "cell_type": "code",
   "execution_count": 18,
   "id": "84b42ae9",
   "metadata": {},
   "outputs": [
    {
     "data": {
      "text/plain": [
       "array([9995, 9996, 9997, 9998, 9999])"
      ]
     },
     "execution_count": 18,
     "metadata": {},
     "output_type": "execute_result"
    }
   ],
   "source": [
    "Z = np.arange(10000) \n",
    "np.random.shuffle(Z) \n",
    "n = 5\n",
    "Z[np.argsort(Z)[-n:]]"
   ]
  },
  {
   "cell_type": "markdown",
   "id": "a3bdac89",
   "metadata": {},
   "source": [
    "18. Create a random 5*3 matrix and replace items that are larger than 4 by their squares ( Example: 6 --> 36)"
   ]
  },
  {
   "cell_type": "code",
   "execution_count": 19,
   "id": "bd0fa2de",
   "metadata": {},
   "outputs": [
    {
     "data": {
      "text/plain": [
       "array([[ 1,  2,  3],\n",
       "       [ 4,  5,  6],\n",
       "       [ 7,  8,  9],\n",
       "       [10, 11, 12],\n",
       "       [13, 14, 15]])"
      ]
     },
     "execution_count": 19,
     "metadata": {},
     "output_type": "execute_result"
    }
   ],
   "source": [
    "t=np.arange(1,16).reshape(5,3)\n",
    "t"
   ]
  },
  {
   "cell_type": "code",
   "execution_count": 20,
   "id": "b9d82fa8",
   "metadata": {},
   "outputs": [
    {
     "data": {
      "text/plain": [
       "array([[  1,   2,   3],\n",
       "       [  4,  25,  36],\n",
       "       [ 49,  64,  81],\n",
       "       [100, 121, 144],\n",
       "       [169, 196, 225]])"
      ]
     },
     "execution_count": 20,
     "metadata": {},
     "output_type": "execute_result"
    }
   ],
   "source": [
    "np.where(t>4,t**2,t)"
   ]
  }
 ],
 "metadata": {
  "kernelspec": {
   "display_name": "Python 3 (ipykernel)",
   "language": "python",
   "name": "python3"
  },
  "language_info": {
   "codemirror_mode": {
    "name": "ipython",
    "version": 3
   },
   "file_extension": ".py",
   "mimetype": "text/x-python",
   "name": "python",
   "nbconvert_exporter": "python",
   "pygments_lexer": "ipython3",
   "version": "3.9.7"
  }
 },
 "nbformat": 4,
 "nbformat_minor": 5
}
