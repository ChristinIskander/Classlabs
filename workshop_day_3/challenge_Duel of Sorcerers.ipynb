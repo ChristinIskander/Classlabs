{
 "cells": [
  {
   "cell_type": "code",
   "execution_count": 74,
   "id": "a6539dc6",
   "metadata": {},
   "outputs": [],
   "source": [
    "gandalf = [10, 11, 13, 30, 22, 11, 10, 33, 22, 22]\n",
    "saruman = [23, 66, 12, 43, 12, 10, 44, 23, 12, 17]\n",
    "gandalf_wins=0\n",
    "saruman_wins=0"
   ]
  },
  {
   "cell_type": "code",
   "execution_count": 75,
   "id": "a5953b37",
   "metadata": {},
   "outputs": [
    {
     "name": "stdout",
     "output_type": "stream",
     "text": [
      "Gandalf wins:  6\n"
     ]
    }
   ],
   "source": [
    "for score in range(len(gandalf)):\n",
    "    if gandalf[score]> saruman[score]:\n",
    "        gandalf_wins+=1\n",
    "    elif gandalf[score]< saruman[score]: \n",
    "        saruman_wins+=1\n",
    "        \n",
    "if gandalf_wins>saruman_wins:\n",
    "    print(\"Gandalf wins: \", gandalf_wins)\n",
    "elif gandalf_wins<saruman_wins:\n",
    "    print(\"Saruman wins: \", saruman_wins)\n",
    "else:\n",
    "    print(\"It is a Tie\")"
   ]
  },
  {
   "cell_type": "code",
   "execution_count": 76,
   "id": "360511d8",
   "metadata": {},
   "outputs": [],
   "source": [
    "power = {'Fireball': 50, 'Lightning bolt': 40, 'Magic arrow': 10, 'Black Tentacles': 25, 'Contagion': 45}\n",
    "gandalf = ['Fireball', 'Lightning bolt', 'Lightning bolt', 'Magic arrow', 'Fireball','Magic arrow', 'Lightning bolt', 'Fireball', 'Fireball', 'Fireball']\n",
    "saruman = ['Contagion', 'Contagion', 'Black Tentacles', 'Fireball', 'Black Tentacles','Lightning bolt', 'Magic arrow', 'Contagion', 'Magic arrow', 'Magic arrow']"
   ]
  },
  {
   "cell_type": "code",
   "execution_count": 77,
   "id": "31779004",
   "metadata": {},
   "outputs": [
    {
     "name": "stdout",
     "output_type": "stream",
     "text": [
      "[50, 40, 40, 10, 50, 10, 40, 50, 50, 50]\n"
     ]
    }
   ],
   "source": [
    "gandalf_spells=[]\n",
    "for spell in gandalf:\n",
    "    gandalf_spells.append(power [spell])\n",
    "print(gandalf_spells)    "
   ]
  },
  {
   "cell_type": "code",
   "execution_count": 43,
   "id": "7911c85f",
   "metadata": {},
   "outputs": [
    {
     "name": "stdout",
     "output_type": "stream",
     "text": [
      "[45, 45, 25, 50, 25, 40, 10, 45, 10, 10]\n"
     ]
    }
   ],
   "source": [
    "saruman_spells=[]\n",
    "for i in saruman:\n",
    "    saruman_spells.append(power[i])\n",
    "print(saruman_spells)   "
   ]
  },
  {
   "cell_type": "code",
   "execution_count": 44,
   "id": "6a9cf71e",
   "metadata": {},
   "outputs": [],
   "source": [
    "gandalf_num_wins=0\n",
    "saruman_num_wins=0"
   ]
  },
  {
   "cell_type": "code",
   "execution_count": 82,
   "id": "b321354a",
   "metadata": {},
   "outputs": [
    {
     "name": "stdout",
     "output_type": "stream",
     "text": [
      "Gandalf wins 3 times in a row\n"
     ]
    }
   ],
   "source": [
    "for i in range(len(gandalf_spells)):\n",
    "    if gandalf_spells[i] > saruman_spells[i]:\n",
    "        gandalf_num_wins+=1\n",
    "        saruman_num_wins=0\n",
    "\n",
    "    else: \n",
    "        saruman_num_wins+=1\n",
    "        gandalf_num_wins=0\n",
    "        \n",
    "    if gandalf_num_wins==3 or saruman_num_wins==3:\n",
    "        break\n",
    "    \n",
    "    \n",
    "if gandalf_num_wins ==3:\n",
    "    print(\"Gandalf wins 3 times in a row\")\n",
    "else:\n",
    "    print(\"Saruman wins 3 times in a row\")"
   ]
  },
  {
   "cell_type": "code",
   "execution_count": 83,
   "id": "943ed56b",
   "metadata": {},
   "outputs": [
    {
     "name": "stdout",
     "output_type": "stream",
     "text": [
      "Gandalf average: 39  and Saruman average: 30.5\n"
     ]
    }
   ],
   "source": [
    "import statistics as stats\n",
    "print(\"Gandalf average:\", stats.mean(gandalf_spells),\" and Saruman average:\", stats.mean(saruman_spells))"
   ]
  },
  {
   "cell_type": "code",
   "execution_count": 84,
   "id": "3e0a5f74",
   "metadata": {},
   "outputs": [
    {
     "name": "stdout",
     "output_type": "stream",
     "text": [
      "Gandalf std: 15.13\n"
     ]
    }
   ],
   "source": [
    "import numpy as np\n",
    "print(\"Gandalf std:\", (round(np.std(gandalf_spells),2)))"
   ]
  },
  {
   "cell_type": "code",
   "execution_count": 85,
   "id": "30018923",
   "metadata": {},
   "outputs": [
    {
     "name": "stdout",
     "output_type": "stream",
     "text": [
      "Saruman std: 15.56\n"
     ]
    }
   ],
   "source": [
    "print(\"Saruman std:\", (round(np.std(saruman_spells),2)))"
   ]
  }
 ],
 "metadata": {
  "kernelspec": {
   "display_name": "Python 3 (ipykernel)",
   "language": "python",
   "name": "python3"
  },
  "language_info": {
   "codemirror_mode": {
    "name": "ipython",
    "version": 3
   },
   "file_extension": ".py",
   "mimetype": "text/x-python",
   "name": "python",
   "nbconvert_exporter": "python",
   "pygments_lexer": "ipython3",
   "version": "3.9.7"
  }
 },
 "nbformat": 4,
 "nbformat_minor": 5
}
