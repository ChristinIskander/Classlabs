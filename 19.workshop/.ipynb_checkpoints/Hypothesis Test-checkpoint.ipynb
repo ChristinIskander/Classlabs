{
 "cells": [
  {
   "cell_type": "markdown",
   "id": "8026ef81",
   "metadata": {},
   "source": [
    "### Hypothesis Test\n",
    "\n",
    "It is assumed that the mean systolic blood pressure is μ = 120 mm Hg. In the Honolulu Heart Study, a sample of n = 100 people had an average systolic blood pressure of 130.1 mm Hg with a standard deviation of 21.21 mm Hg. Is the group significantly different (with respect to systolic blood pressure!) from the regular population?\n",
    "\n",
    "-Set up the hypothesis test.\n",
    "-Write down all the steps followed for setting up the test.\n",
    "-Calculate the test statistic by hand and also code it in Python. \n",
    "-It should be 4.76190. \n",
    "-What decision can you make based on this calculated value?"
   ]
  },
  {
   "cell_type": "code",
   "execution_count": 4,
   "id": "20930d67",
   "metadata": {},
   "outputs": [],
   "source": [
    "import numpy as np\n",
    "import pandas as pd\n",
    "import scipy.stats as stats\n",
    "import matplotlib.pyplot as plt\n",
    "import seaborn as sns\n",
    "\n",
    "%matplotlib inline"
   ]
  },
  {
   "cell_type": "markdown",
   "id": "ce88aed2",
   "metadata": {},
   "source": [
    "In our case we use the T-Test beacause we don't have the standard deviation of the population.\n",
    "\n",
    "H0 the group is not significantly different.\n",
    "H0=!120\n",
    "\n",
    "Since we are examining if people who's average blood pressure is significantly different from regular population or not, so it is a 2 tail test.\n",
    "\n",
    "the Formula: t= (130.1-120)/(21.21/√100)\n",
    "t= 4,76\n",
    "\n",
    "n=100 so the the degree of freedom is 99\n",
    "check the critical value in the table\n",
    "critical value is 1,984\n",
    "\n",
    "The statistic is outside of the acceptable region, so we regect the H0\n",
    "\n",
    "They are significantly different"
   ]
  },
  {
   "cell_type": "code",
   "execution_count": 8,
   "id": "838e276a",
   "metadata": {},
   "outputs": [],
   "source": [
    "sample_mean = 130.1\n",
    "pop_mean= 120\n",
    "std_sample= 21.21\n",
    "n=100"
   ]
  },
  {
   "cell_type": "code",
   "execution_count": 11,
   "id": "237b1861",
   "metadata": {},
   "outputs": [
    {
     "data": {
      "text/plain": [
       "4.761904761904759"
      ]
     },
     "execution_count": 11,
     "metadata": {},
     "output_type": "execute_result"
    }
   ],
   "source": [
    "t= (sample_mean-pop_mean)/(std_sample/np.sqrt(n))\n",
    "t"
   ]
  },
  {
   "cell_type": "code",
   "execution_count": 20,
   "id": "531469dd",
   "metadata": {},
   "outputs": [
    {
     "data": {
      "text/plain": [
       "1.9842169515086827"
      ]
     },
     "execution_count": 20,
     "metadata": {},
     "output_type": "execute_result"
    }
   ],
   "source": [
    "tc = stats.t.ppf(1-(0.05/2),df=99)\n",
    "tc"
   ]
  }
 ],
 "metadata": {
  "kernelspec": {
   "display_name": "Python 3 (ipykernel)",
   "language": "python",
   "name": "python3"
  },
  "language_info": {
   "codemirror_mode": {
    "name": "ipython",
    "version": 3
   },
   "file_extension": ".py",
   "mimetype": "text/x-python",
   "name": "python",
   "nbconvert_exporter": "python",
   "pygments_lexer": "ipython3",
   "version": "3.9.7"
  }
 },
 "nbformat": 4,
 "nbformat_minor": 5
}
