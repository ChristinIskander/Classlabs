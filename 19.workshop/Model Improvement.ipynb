{
 "cells": [
  {
   "cell_type": "code",
   "execution_count": 1,
   "id": "4f1e98bc",
   "metadata": {},
   "outputs": [
    {
     "name": "stderr",
     "output_type": "stream",
     "text": [
      "/Users/christineiskander/opt/anaconda3/envs/DA_Env/lib/python3.9/site-packages/statsmodels/compat/pandas.py:61: FutureWarning: pandas.Int64Index is deprecated and will be removed from pandas in a future version. Use pandas.Index with the appropriate dtype instead.\n",
      "  from pandas import Int64Index as NumericIndex\n"
     ]
    }
   ],
   "source": [
    "import numpy as np\n",
    "import pandas as pd\n",
    "import matplotlib.pyplot as plt\n",
    "%matplotlib inline\n",
    "import seaborn as sns\n",
    "from sklearn.preprocessing import StandardScaler\n",
    "from sklearn.preprocessing import quantile_transform\n",
    "from sklearn.preprocessing import minmax_scale\n",
    "from sklearn.preprocessing import OneHotEncoder  ##. better to use dummy from pandas \n",
    "from sklearn.preprocessing import PowerTransformer\n",
    "from scipy.stats import boxcox\n",
    "from sklearn.linear_model import LinearRegression\n",
    "from sklearn.model_selection import train_test_split\n",
    "import statsmodels.api as sm\n",
    "from scipy.stats import boxcox\n",
    "from sklearn.model_selection import train_test_split\n",
    "from sklearn.metrics import r2_score\n",
    "from sklearn.metrics import mean_squared_error as mse\n",
    "from sklearn.metrics import mean_absolute_error as mae\n",
    "pd.options.display.max_rows = 50"
   ]
  },
  {
   "cell_type": "code",
   "execution_count": 5,
   "id": "725d3766",
   "metadata": {},
   "outputs": [
    {
     "data": {
      "text/html": [
       "<div>\n",
       "<style scoped>\n",
       "    .dataframe tbody tr th:only-of-type {\n",
       "        vertical-align: middle;\n",
       "    }\n",
       "\n",
       "    .dataframe tbody tr th {\n",
       "        vertical-align: top;\n",
       "    }\n",
       "\n",
       "    .dataframe thead th {\n",
       "        text-align: right;\n",
       "    }\n",
       "</style>\n",
       "<table border=\"1\" class=\"dataframe\">\n",
       "  <thead>\n",
       "    <tr style=\"text-align: right;\">\n",
       "      <th></th>\n",
       "      <th>Unnamed: 0</th>\n",
       "      <th>customer_lifetime_value</th>\n",
       "      <th>income</th>\n",
       "      <th>monthly_premium_auto</th>\n",
       "      <th>months_since_last_claim</th>\n",
       "      <th>months_since_policy_inception</th>\n",
       "      <th>number_of_open_complaints</th>\n",
       "      <th>number_of_policies</th>\n",
       "      <th>total_claim_amount</th>\n",
       "      <th>region_east</th>\n",
       "      <th>...</th>\n",
       "      <th>renew_offer_type_offer4</th>\n",
       "      <th>sales_channel_branch</th>\n",
       "      <th>sales_channel_call center</th>\n",
       "      <th>sales_channel_web</th>\n",
       "      <th>vehicle_class_luxury</th>\n",
       "      <th>vehicle_class_sports car</th>\n",
       "      <th>vehicle_class_suv</th>\n",
       "      <th>vehicle_class_two-door car</th>\n",
       "      <th>vehicle_size_medsize</th>\n",
       "      <th>vehicle_size_small</th>\n",
       "    </tr>\n",
       "  </thead>\n",
       "  <tbody>\n",
       "    <tr>\n",
       "      <th>0</th>\n",
       "      <td>0</td>\n",
       "      <td>4809</td>\n",
       "      <td>48029</td>\n",
       "      <td>61</td>\n",
       "      <td>7</td>\n",
       "      <td>52</td>\n",
       "      <td>0</td>\n",
       "      <td>9</td>\n",
       "      <td>292</td>\n",
       "      <td>0</td>\n",
       "      <td>...</td>\n",
       "      <td>0</td>\n",
       "      <td>0</td>\n",
       "      <td>0</td>\n",
       "      <td>0</td>\n",
       "      <td>0</td>\n",
       "      <td>0</td>\n",
       "      <td>0</td>\n",
       "      <td>0</td>\n",
       "      <td>1</td>\n",
       "      <td>0</td>\n",
       "    </tr>\n",
       "    <tr>\n",
       "      <th>1</th>\n",
       "      <td>1</td>\n",
       "      <td>2228</td>\n",
       "      <td>26794</td>\n",
       "      <td>64</td>\n",
       "      <td>3</td>\n",
       "      <td>26</td>\n",
       "      <td>0</td>\n",
       "      <td>1</td>\n",
       "      <td>744</td>\n",
       "      <td>0</td>\n",
       "      <td>...</td>\n",
       "      <td>1</td>\n",
       "      <td>0</td>\n",
       "      <td>1</td>\n",
       "      <td>0</td>\n",
       "      <td>0</td>\n",
       "      <td>0</td>\n",
       "      <td>0</td>\n",
       "      <td>0</td>\n",
       "      <td>1</td>\n",
       "      <td>0</td>\n",
       "    </tr>\n",
       "    <tr>\n",
       "      <th>2</th>\n",
       "      <td>2</td>\n",
       "      <td>14947</td>\n",
       "      <td>22139</td>\n",
       "      <td>100</td>\n",
       "      <td>34</td>\n",
       "      <td>31</td>\n",
       "      <td>0</td>\n",
       "      <td>2</td>\n",
       "      <td>480</td>\n",
       "      <td>1</td>\n",
       "      <td>...</td>\n",
       "      <td>0</td>\n",
       "      <td>0</td>\n",
       "      <td>1</td>\n",
       "      <td>0</td>\n",
       "      <td>0</td>\n",
       "      <td>0</td>\n",
       "      <td>1</td>\n",
       "      <td>0</td>\n",
       "      <td>1</td>\n",
       "      <td>0</td>\n",
       "    </tr>\n",
       "    <tr>\n",
       "      <th>3</th>\n",
       "      <td>3</td>\n",
       "      <td>22332</td>\n",
       "      <td>49078</td>\n",
       "      <td>97</td>\n",
       "      <td>10</td>\n",
       "      <td>3</td>\n",
       "      <td>0</td>\n",
       "      <td>2</td>\n",
       "      <td>484</td>\n",
       "      <td>0</td>\n",
       "      <td>...</td>\n",
       "      <td>0</td>\n",
       "      <td>1</td>\n",
       "      <td>0</td>\n",
       "      <td>0</td>\n",
       "      <td>0</td>\n",
       "      <td>0</td>\n",
       "      <td>0</td>\n",
       "      <td>0</td>\n",
       "      <td>1</td>\n",
       "      <td>0</td>\n",
       "    </tr>\n",
       "    <tr>\n",
       "      <th>4</th>\n",
       "      <td>4</td>\n",
       "      <td>9025</td>\n",
       "      <td>23675</td>\n",
       "      <td>117</td>\n",
       "      <td>15</td>\n",
       "      <td>31</td>\n",
       "      <td>1</td>\n",
       "      <td>7</td>\n",
       "      <td>707</td>\n",
       "      <td>0</td>\n",
       "      <td>...</td>\n",
       "      <td>0</td>\n",
       "      <td>1</td>\n",
       "      <td>0</td>\n",
       "      <td>0</td>\n",
       "      <td>0</td>\n",
       "      <td>0</td>\n",
       "      <td>0</td>\n",
       "      <td>0</td>\n",
       "      <td>1</td>\n",
       "      <td>0</td>\n",
       "    </tr>\n",
       "    <tr>\n",
       "      <th>...</th>\n",
       "      <td>...</td>\n",
       "      <td>...</td>\n",
       "      <td>...</td>\n",
       "      <td>...</td>\n",
       "      <td>...</td>\n",
       "      <td>...</td>\n",
       "      <td>...</td>\n",
       "      <td>...</td>\n",
       "      <td>...</td>\n",
       "      <td>...</td>\n",
       "      <td>...</td>\n",
       "      <td>...</td>\n",
       "      <td>...</td>\n",
       "      <td>...</td>\n",
       "      <td>...</td>\n",
       "      <td>...</td>\n",
       "      <td>...</td>\n",
       "      <td>...</td>\n",
       "      <td>...</td>\n",
       "      <td>...</td>\n",
       "      <td>...</td>\n",
       "    </tr>\n",
       "    <tr>\n",
       "      <th>10684</th>\n",
       "      <td>10684</td>\n",
       "      <td>15563</td>\n",
       "      <td>64811</td>\n",
       "      <td>253</td>\n",
       "      <td>8</td>\n",
       "      <td>40</td>\n",
       "      <td>2</td>\n",
       "      <td>7</td>\n",
       "      <td>1214</td>\n",
       "      <td>0</td>\n",
       "      <td>...</td>\n",
       "      <td>0</td>\n",
       "      <td>0</td>\n",
       "      <td>0</td>\n",
       "      <td>1</td>\n",
       "      <td>1</td>\n",
       "      <td>0</td>\n",
       "      <td>0</td>\n",
       "      <td>0</td>\n",
       "      <td>1</td>\n",
       "      <td>0</td>\n",
       "    </tr>\n",
       "    <tr>\n",
       "      <th>10685</th>\n",
       "      <td>10685</td>\n",
       "      <td>5259</td>\n",
       "      <td>61146</td>\n",
       "      <td>65</td>\n",
       "      <td>7</td>\n",
       "      <td>68</td>\n",
       "      <td>0</td>\n",
       "      <td>6</td>\n",
       "      <td>273</td>\n",
       "      <td>0</td>\n",
       "      <td>...</td>\n",
       "      <td>0</td>\n",
       "      <td>1</td>\n",
       "      <td>0</td>\n",
       "      <td>0</td>\n",
       "      <td>0</td>\n",
       "      <td>0</td>\n",
       "      <td>0</td>\n",
       "      <td>0</td>\n",
       "      <td>1</td>\n",
       "      <td>0</td>\n",
       "    </tr>\n",
       "    <tr>\n",
       "      <th>10686</th>\n",
       "      <td>10686</td>\n",
       "      <td>23893</td>\n",
       "      <td>39837</td>\n",
       "      <td>201</td>\n",
       "      <td>11</td>\n",
       "      <td>63</td>\n",
       "      <td>0</td>\n",
       "      <td>2</td>\n",
       "      <td>381</td>\n",
       "      <td>0</td>\n",
       "      <td>...</td>\n",
       "      <td>0</td>\n",
       "      <td>0</td>\n",
       "      <td>0</td>\n",
       "      <td>1</td>\n",
       "      <td>1</td>\n",
       "      <td>0</td>\n",
       "      <td>0</td>\n",
       "      <td>0</td>\n",
       "      <td>1</td>\n",
       "      <td>0</td>\n",
       "    </tr>\n",
       "    <tr>\n",
       "      <th>10687</th>\n",
       "      <td>10687</td>\n",
       "      <td>11971</td>\n",
       "      <td>64195</td>\n",
       "      <td>158</td>\n",
       "      <td>0</td>\n",
       "      <td>27</td>\n",
       "      <td>4</td>\n",
       "      <td>6</td>\n",
       "      <td>618</td>\n",
       "      <td>0</td>\n",
       "      <td>...</td>\n",
       "      <td>0</td>\n",
       "      <td>1</td>\n",
       "      <td>0</td>\n",
       "      <td>0</td>\n",
       "      <td>0</td>\n",
       "      <td>0</td>\n",
       "      <td>1</td>\n",
       "      <td>0</td>\n",
       "      <td>1</td>\n",
       "      <td>0</td>\n",
       "    </tr>\n",
       "    <tr>\n",
       "      <th>10688</th>\n",
       "      <td>10688</td>\n",
       "      <td>6857</td>\n",
       "      <td>88784</td>\n",
       "      <td>101</td>\n",
       "      <td>31</td>\n",
       "      <td>1</td>\n",
       "      <td>0</td>\n",
       "      <td>3</td>\n",
       "      <td>1021</td>\n",
       "      <td>0</td>\n",
       "      <td>...</td>\n",
       "      <td>1</td>\n",
       "      <td>0</td>\n",
       "      <td>0</td>\n",
       "      <td>1</td>\n",
       "      <td>0</td>\n",
       "      <td>0</td>\n",
       "      <td>1</td>\n",
       "      <td>0</td>\n",
       "      <td>1</td>\n",
       "      <td>0</td>\n",
       "    </tr>\n",
       "  </tbody>\n",
       "</table>\n",
       "<p>10689 rows × 43 columns</p>\n",
       "</div>"
      ],
      "text/plain": [
       "       Unnamed: 0  customer_lifetime_value  income  monthly_premium_auto  \\\n",
       "0               0                     4809   48029                    61   \n",
       "1               1                     2228   26794                    64   \n",
       "2               2                    14947   22139                   100   \n",
       "3               3                    22332   49078                    97   \n",
       "4               4                     9025   23675                   117   \n",
       "...           ...                      ...     ...                   ...   \n",
       "10684       10684                    15563   64811                   253   \n",
       "10685       10685                     5259   61146                    65   \n",
       "10686       10686                    23893   39837                   201   \n",
       "10687       10687                    11971   64195                   158   \n",
       "10688       10688                     6857   88784                   101   \n",
       "\n",
       "       months_since_last_claim  months_since_policy_inception  \\\n",
       "0                            7                             52   \n",
       "1                            3                             26   \n",
       "2                           34                             31   \n",
       "3                           10                              3   \n",
       "4                           15                             31   \n",
       "...                        ...                            ...   \n",
       "10684                        8                             40   \n",
       "10685                        7                             68   \n",
       "10686                       11                             63   \n",
       "10687                        0                             27   \n",
       "10688                       31                              1   \n",
       "\n",
       "       number_of_open_complaints  number_of_policies  total_claim_amount  \\\n",
       "0                              0                   9                 292   \n",
       "1                              0                   1                 744   \n",
       "2                              0                   2                 480   \n",
       "3                              0                   2                 484   \n",
       "4                              1                   7                 707   \n",
       "...                          ...                 ...                 ...   \n",
       "10684                          2                   7                1214   \n",
       "10685                          0                   6                 273   \n",
       "10686                          0                   2                 381   \n",
       "10687                          4                   6                 618   \n",
       "10688                          0                   3                1021   \n",
       "\n",
       "       region_east  ...  renew_offer_type_offer4  sales_channel_branch  \\\n",
       "0                0  ...                        0                     0   \n",
       "1                0  ...                        1                     0   \n",
       "2                1  ...                        0                     0   \n",
       "3                0  ...                        0                     1   \n",
       "4                0  ...                        0                     1   \n",
       "...            ...  ...                      ...                   ...   \n",
       "10684            0  ...                        0                     0   \n",
       "10685            0  ...                        0                     1   \n",
       "10686            0  ...                        0                     0   \n",
       "10687            0  ...                        0                     1   \n",
       "10688            0  ...                        1                     0   \n",
       "\n",
       "       sales_channel_call center  sales_channel_web  vehicle_class_luxury  \\\n",
       "0                              0                  0                     0   \n",
       "1                              1                  0                     0   \n",
       "2                              1                  0                     0   \n",
       "3                              0                  0                     0   \n",
       "4                              0                  0                     0   \n",
       "...                          ...                ...                   ...   \n",
       "10684                          0                  1                     1   \n",
       "10685                          0                  0                     0   \n",
       "10686                          0                  1                     1   \n",
       "10687                          0                  0                     0   \n",
       "10688                          0                  1                     0   \n",
       "\n",
       "       vehicle_class_sports car  vehicle_class_suv  \\\n",
       "0                             0                  0   \n",
       "1                             0                  0   \n",
       "2                             0                  1   \n",
       "3                             0                  0   \n",
       "4                             0                  0   \n",
       "...                         ...                ...   \n",
       "10684                         0                  0   \n",
       "10685                         0                  0   \n",
       "10686                         0                  0   \n",
       "10687                         0                  1   \n",
       "10688                         0                  1   \n",
       "\n",
       "       vehicle_class_two-door car  vehicle_size_medsize  vehicle_size_small  \n",
       "0                               0                     1                   0  \n",
       "1                               0                     1                   0  \n",
       "2                               0                     1                   0  \n",
       "3                               0                     1                   0  \n",
       "4                               0                     1                   0  \n",
       "...                           ...                   ...                 ...  \n",
       "10684                           0                     1                   0  \n",
       "10685                           0                     1                   0  \n",
       "10686                           0                     1                   0  \n",
       "10687                           0                     1                   0  \n",
       "10688                           0                     1                   0  \n",
       "\n",
       "[10689 rows x 43 columns]"
      ]
     },
     "execution_count": 5,
     "metadata": {},
     "output_type": "execute_result"
    }
   ],
   "source": [
    "whole_df=pd.read_csv(\"Cars_new_model_improved\")\n",
    "whole_df"
   ]
  },
  {
   "cell_type": "markdown",
   "id": "c01c35c6",
   "metadata": {},
   "source": [
    "## X-Y Split"
   ]
  },
  {
   "cell_type": "code",
   "execution_count": 7,
   "id": "030af90e",
   "metadata": {},
   "outputs": [
    {
     "data": {
      "text/plain": [
       "0         292\n",
       "1         744\n",
       "2         480\n",
       "3         484\n",
       "4         707\n",
       "         ... \n",
       "10684    1214\n",
       "10685     273\n",
       "10686     381\n",
       "10687     618\n",
       "10688    1021\n",
       "Name: total_claim_amount, Length: 10689, dtype: int64"
      ]
     },
     "execution_count": 7,
     "metadata": {},
     "output_type": "execute_result"
    }
   ],
   "source": [
    "X=whole_df.drop(\"total_claim_amount\", axis=1)\n",
    "y=whole_df.total_claim_amount\n",
    "y"
   ]
  },
  {
   "cell_type": "code",
   "execution_count": 8,
   "id": "bca3a437",
   "metadata": {},
   "outputs": [],
   "source": [
    "X_train, X_test, y_train, y_test=train_test_split(X, y, test_size=.30,random_state=123)"
   ]
  },
  {
   "cell_type": "code",
   "execution_count": 9,
   "id": "0292d7d0",
   "metadata": {},
   "outputs": [
    {
     "data": {
      "text/plain": [
       "array([[ 0.40326385, -0.11021627, -1.2632667 , ...,  1.95232568,\n",
       "         0.65494534, -0.48945135],\n",
       "       [ 0.10809117, -0.42794064, -1.36853038, ...,  1.95232568,\n",
       "        -1.52684497,  2.04310398],\n",
       "       [ 1.67208516, -0.5223013 ,  0.26299646, ..., -0.51220962,\n",
       "         0.65494534, -0.48945135],\n",
       "       ...,\n",
       "       [-0.04710939, -0.81132612, -1.16342071, ...,  1.95232568,\n",
       "        -1.52684497,  2.04310398],\n",
       "       [-1.30167428,  2.25575772,  0.97656622, ..., -0.51220962,\n",
       "         0.65494534, -0.48945135],\n",
       "       [-0.57718898,  1.18923585, -0.01438919, ..., -0.51220962,\n",
       "         0.65494534, -0.48945135]])"
      ]
     },
     "execution_count": 9,
     "metadata": {},
     "output_type": "execute_result"
    }
   ],
   "source": [
    "# Standardize the data (after the data split).\n",
    "\n",
    "std_scaler=StandardScaler().fit(X_train)  \n",
    "X_train_scaled=std_scaler.transform(X_train)\n",
    "\n",
    "X_train_scaled"
   ]
  },
  {
   "cell_type": "code",
   "execution_count": 10,
   "id": "90ba2fbd",
   "metadata": {},
   "outputs": [
    {
     "data": {
      "text/plain": [
       "(7482, 42)"
      ]
     },
     "execution_count": 10,
     "metadata": {},
     "output_type": "execute_result"
    }
   ],
   "source": [
    "X_train.shape"
   ]
  },
  {
   "cell_type": "code",
   "execution_count": 11,
   "id": "60beebff",
   "metadata": {},
   "outputs": [
    {
     "data": {
      "text/plain": [
       "array([[-0.22628666, -0.40967729, -0.94647238, ...,  1.95232568,\n",
       "         0.65494534, -0.48945135],\n",
       "       [-0.41842431, -0.7597249 , -0.93254692, ..., -0.51220962,\n",
       "         0.65494534, -0.48945135],\n",
       "       [-0.26387177,  0.57248529, -1.22437973, ...,  1.95232568,\n",
       "         0.65494534, -0.48945135],\n",
       "       ...,\n",
       "       [-1.24659266, -0.79857077,  0.60844433, ...,  1.95232568,\n",
       "         0.65494534, -0.48945135],\n",
       "       [ 1.57196622, -0.42547654, -0.96649777, ...,  1.95232568,\n",
       "         0.65494534, -0.48945135],\n",
       "       [-0.78811918, -0.49881985, -0.94988352, ...,  1.95232568,\n",
       "        -1.52684497, -0.48945135]])"
      ]
     },
     "execution_count": 11,
     "metadata": {},
     "output_type": "execute_result"
    }
   ],
   "source": [
    "X_test_scaled=std_scaler.transform(X_test)\n",
    "X_test_scaled"
   ]
  },
  {
   "cell_type": "code",
   "execution_count": 13,
   "id": "77ebb8b5",
   "metadata": {},
   "outputs": [],
   "source": [
    "X=whole_df.drop(\"Unnamed: 0\", axis=1)"
   ]
  },
  {
   "cell_type": "code",
   "execution_count": 14,
   "id": "624e409d",
   "metadata": {},
   "outputs": [
    {
     "data": {
      "text/plain": [
       "Index(['customer_lifetime_value', 'income', 'monthly_premium_auto',\n",
       "       'months_since_last_claim', 'months_since_policy_inception',\n",
       "       'number_of_open_complaints', 'number_of_policies', 'total_claim_amount',\n",
       "       'region_east', 'region_north west', 'region_west region',\n",
       "       'response_yes', 'coverage_extended', 'coverage_premium',\n",
       "       'education_college', 'education_doctor',\n",
       "       'education_high school or below', 'education_master', 'month_jan',\n",
       "       'employment_status_employed', 'employment_status_medical leave',\n",
       "       'employment_status_retired', 'employment_status_unemployed', 'gender_m',\n",
       "       'location_code_suburban', 'location_code_urban',\n",
       "       'marital_status_married', 'marital_status_single',\n",
       "       'policy_type_personal auto', 'policy_type_special auto',\n",
       "       'renew_offer_type_offer2', 'renew_offer_type_offer3',\n",
       "       'renew_offer_type_offer4', 'sales_channel_branch',\n",
       "       'sales_channel_call center', 'sales_channel_web',\n",
       "       'vehicle_class_luxury', 'vehicle_class_sports car', 'vehicle_class_suv',\n",
       "       'vehicle_class_two-door car', 'vehicle_size_medsize',\n",
       "       'vehicle_size_small'],\n",
       "      dtype='object')"
      ]
     },
     "execution_count": 14,
     "metadata": {},
     "output_type": "execute_result"
    }
   ],
   "source": [
    "X.columns"
   ]
  },
  {
   "cell_type": "code",
   "execution_count": 15,
   "id": "e5b23bdc",
   "metadata": {},
   "outputs": [
    {
     "data": {
      "text/plain": [
       "LinearRegression()"
      ]
     },
     "execution_count": 15,
     "metadata": {},
     "output_type": "execute_result"
    }
   ],
   "source": [
    "# Apply linear regression.\n",
    "model=LinearRegression()\n",
    "model.fit(X_train_scaled, y_train)"
   ]
  },
  {
   "cell_type": "code",
   "execution_count": 16,
   "id": "bfc30ba5",
   "metadata": {},
   "outputs": [
    {
     "data": {
      "text/plain": [
       "array([ 1.21164720e+00, -1.01952225e-02, -4.83124614e+00,  1.79250296e+02,\n",
       "        4.90765882e+00,  4.55516155e-01,  1.96140665e+00, -1.07991190e+00,\n",
       "        2.67887062e+00, -1.43225114e-01,  3.05525146e+00, -9.07728111e+00,\n",
       "       -5.62217671e+00, -3.96061793e+00, -3.62129976e+00, -3.31727092e+00,\n",
       "        2.40635540e+00, -3.41687858e+00, -7.35412559e-01, -2.88374778e+00,\n",
       "        3.82208264e+00,  1.21729659e-01,  3.78820926e+01,  7.73600924e+00,\n",
       "        1.83946119e+02,  8.48066496e+01, -6.02819357e-01,  3.06743721e+01,\n",
       "       -4.31295441e-01,  1.71945869e+00,  6.96172651e+00,  3.98902347e+00,\n",
       "        2.21134577e+00,  1.09214864e+00, -5.90258379e-01, -1.29243518e+00,\n",
       "        2.54265432e+00, -4.86112143e+00, -6.03242582e+00,  2.91275106e-02,\n",
       "       -3.62472842e+00, -6.44719231e-01])"
      ]
     },
     "execution_count": 16,
     "metadata": {},
     "output_type": "execute_result"
    }
   ],
   "source": [
    "# Model Interpretation.\n",
    "model.coef_"
   ]
  },
  {
   "cell_type": "code",
   "execution_count": 17,
   "id": "c527f6fb",
   "metadata": {},
   "outputs": [
    {
     "data": {
      "text/plain": [
       "433.0597433841219"
      ]
     },
     "execution_count": 17,
     "metadata": {},
     "output_type": "execute_result"
    }
   ],
   "source": [
    "model.intercept_"
   ]
  },
  {
   "cell_type": "code",
   "execution_count": 18,
   "id": "f7f6063c",
   "metadata": {},
   "outputs": [
    {
     "data": {
      "text/plain": [
       "0.7704668352530691"
      ]
     },
     "execution_count": 18,
     "metadata": {},
     "output_type": "execute_result"
    }
   ],
   "source": [
    "model.score(X_test_scaled,y_test)"
   ]
  },
  {
   "cell_type": "markdown",
   "id": "267bf4dc",
   "metadata": {},
   "source": [
    "## Predicting"
   ]
  },
  {
   "cell_type": "code",
   "execution_count": 19,
   "id": "9b7b9247",
   "metadata": {},
   "outputs": [
    {
     "data": {
      "text/plain": [
       "array([465.8036539 , 396.87884335, 128.1484862 , ..., 567.55204982,\n",
       "       -16.14323285, 469.72118846])"
      ]
     },
     "execution_count": 19,
     "metadata": {},
     "output_type": "execute_result"
    }
   ],
   "source": [
    "# Prediction\n",
    "y_pred=model.predict(X_test_scaled)\n",
    "y_pred"
   ]
  },
  {
   "cell_type": "code",
   "execution_count": 20,
   "id": "ec343b90",
   "metadata": {},
   "outputs": [
    {
     "data": {
      "text/plain": [
       "4665     345\n",
       "4072     345\n",
       "4549     257\n",
       "4211     445\n",
       "3081     523\n",
       "        ... \n",
       "3488     404\n",
       "1667     554\n",
       "1516     350\n",
       "10215     27\n",
       "2931     320\n",
       "Name: total_claim_amount, Length: 3207, dtype: int64"
      ]
     },
     "execution_count": 20,
     "metadata": {},
     "output_type": "execute_result"
    }
   ],
   "source": [
    "y_test"
   ]
  },
  {
   "cell_type": "code",
   "execution_count": 21,
   "id": "8afe9036",
   "metadata": {},
   "outputs": [
    {
     "data": {
      "text/html": [
       "<div>\n",
       "<style scoped>\n",
       "    .dataframe tbody tr th:only-of-type {\n",
       "        vertical-align: middle;\n",
       "    }\n",
       "\n",
       "    .dataframe tbody tr th {\n",
       "        vertical-align: top;\n",
       "    }\n",
       "\n",
       "    .dataframe thead th {\n",
       "        text-align: right;\n",
       "    }\n",
       "</style>\n",
       "<table border=\"1\" class=\"dataframe\">\n",
       "  <thead>\n",
       "    <tr style=\"text-align: right;\">\n",
       "      <th></th>\n",
       "      <th>y_test</th>\n",
       "      <th>y_pred</th>\n",
       "    </tr>\n",
       "  </thead>\n",
       "  <tbody>\n",
       "    <tr>\n",
       "      <th>4665</th>\n",
       "      <td>345</td>\n",
       "      <td>465.803654</td>\n",
       "    </tr>\n",
       "    <tr>\n",
       "      <th>4072</th>\n",
       "      <td>345</td>\n",
       "      <td>396.878843</td>\n",
       "    </tr>\n",
       "    <tr>\n",
       "      <th>4549</th>\n",
       "      <td>257</td>\n",
       "      <td>128.148486</td>\n",
       "    </tr>\n",
       "    <tr>\n",
       "      <th>4211</th>\n",
       "      <td>445</td>\n",
       "      <td>382.078438</td>\n",
       "    </tr>\n",
       "    <tr>\n",
       "      <th>3081</th>\n",
       "      <td>523</td>\n",
       "      <td>417.616559</td>\n",
       "    </tr>\n",
       "    <tr>\n",
       "      <th>...</th>\n",
       "      <td>...</td>\n",
       "      <td>...</td>\n",
       "    </tr>\n",
       "    <tr>\n",
       "      <th>3488</th>\n",
       "      <td>404</td>\n",
       "      <td>351.501423</td>\n",
       "    </tr>\n",
       "    <tr>\n",
       "      <th>1667</th>\n",
       "      <td>554</td>\n",
       "      <td>534.833627</td>\n",
       "    </tr>\n",
       "    <tr>\n",
       "      <th>1516</th>\n",
       "      <td>350</td>\n",
       "      <td>567.552050</td>\n",
       "    </tr>\n",
       "    <tr>\n",
       "      <th>10215</th>\n",
       "      <td>27</td>\n",
       "      <td>-16.143233</td>\n",
       "    </tr>\n",
       "    <tr>\n",
       "      <th>2931</th>\n",
       "      <td>320</td>\n",
       "      <td>469.721188</td>\n",
       "    </tr>\n",
       "  </tbody>\n",
       "</table>\n",
       "<p>3207 rows × 2 columns</p>\n",
       "</div>"
      ],
      "text/plain": [
       "       y_test      y_pred\n",
       "4665      345  465.803654\n",
       "4072      345  396.878843\n",
       "4549      257  128.148486\n",
       "4211      445  382.078438\n",
       "3081      523  417.616559\n",
       "...       ...         ...\n",
       "3488      404  351.501423\n",
       "1667      554  534.833627\n",
       "1516      350  567.552050\n",
       "10215      27  -16.143233\n",
       "2931      320  469.721188\n",
       "\n",
       "[3207 rows x 2 columns]"
      ]
     },
     "execution_count": 21,
     "metadata": {},
     "output_type": "execute_result"
    }
   ],
   "source": [
    "result=pd.DataFrame({\"y_test\":y_test,\"y_pred\":y_pred})\n",
    "result"
   ]
  },
  {
   "cell_type": "code",
   "execution_count": 22,
   "id": "63e7bdcb",
   "metadata": {},
   "outputs": [
    {
     "data": {
      "text/plain": [
       "[<matplotlib.lines.Line2D at 0x7f8c1d7acfa0>]"
      ]
     },
     "execution_count": 22,
     "metadata": {},
     "output_type": "execute_result"
    },
    {
     "data": {
      "image/png": "[encoded data removed]",
      "text/plain": [
       "<Figure size 1008x288 with 3 Axes>"
      ]
     },
     "metadata": {
      "needs_background": "light"
     },
     "output_type": "display_data"
    }
   ],
   "source": [
    "# scatter plot y_pred vs y\n",
    "fig, ax = plt.subplots(1,3,figsize=(14,4))\n",
    "\n",
    "ax[0].plot(y_pred, y_test, 'o')\n",
    "ax[0].set_xlabel(\"y_test\")\n",
    "ax[0].set_ylabel(\"y_pred\")\n",
    "ax[0].set_title(\"Test Set -Predicted vs real\")\n",
    "\n",
    "# histogram of the residuals between y - y_pred. \n",
    "# Homoscdasticity\n",
    "ax[1].hist(y_test - y_pred)\n",
    "ax[1].set_xlabel(\"Test y-y_pred\")\n",
    "ax[1].set_title(\"Test Set Residual histogram\")\n",
    "\n",
    "ax[2].plot(y_pred,y_test - y_pred,\"o\")\n",
    "ax[2].set_xlabel(\"predited\")\n",
    "ax[2].set_ylabel(\"residuals\")\n",
    "ax[2].set_title(\"Residuals by Predicted\")\n",
    "ax[2].plot(y_pred,np.zeros(len(y_pred)),linestyle='dashed')"
   ]
  },
  {
   "cell_type": "markdown",
   "id": "6c6050e1",
   "metadata": {},
   "source": [
    "## Evaluation of the Model"
   ]
  },
  {
   "cell_type": "code",
   "execution_count": 23,
   "id": "125b8859",
   "metadata": {},
   "outputs": [
    {
     "data": {
      "text/plain": [
       "19146.514542497887"
      ]
     },
     "execution_count": 23,
     "metadata": {},
     "output_type": "execute_result"
    }
   ],
   "source": [
    "# MSE - Mean Square Error\n",
    "mse(y_test,y_pred)"
   ]
  },
  {
   "cell_type": "code",
   "execution_count": 24,
   "id": "5ec053bc",
   "metadata": {},
   "outputs": [
    {
     "data": {
      "text/plain": [
       "138.37093098804345"
      ]
     },
     "execution_count": 24,
     "metadata": {},
     "output_type": "execute_result"
    }
   ],
   "source": [
    "# RMSE - Root Mean Square Error\n",
    "mse(y_test, y_pred, squared=False)"
   ]
  },
  {
   "cell_type": "code",
   "execution_count": 25,
   "id": "2516a5aa",
   "metadata": {},
   "outputs": [
    {
     "data": {
      "text/plain": [
       "95.8164568859348"
      ]
     },
     "execution_count": 25,
     "metadata": {},
     "output_type": "execute_result"
    }
   ],
   "source": [
    "# MAE - Mean Absolute Error\n",
    "mae (y_test, y_pred)"
   ]
  },
  {
   "cell_type": "code",
   "execution_count": 26,
   "id": "64dca6c2",
   "metadata": {},
   "outputs": [
    {
     "data": {
      "text/plain": [
       "0.7704668352530691"
      ]
     },
     "execution_count": 26,
     "metadata": {},
     "output_type": "execute_result"
    }
   ],
   "source": [
    "# R2 - percentage of how good the model is\n",
    "R2=r2_score(y_test,y_pred)\n",
    "R2"
   ]
  },
  {
   "cell_type": "code",
   "execution_count": 27,
   "id": "a1062594",
   "metadata": {},
   "outputs": [
    {
     "data": {
      "text/plain": [
       "0.7674199348360745"
      ]
     },
     "execution_count": 27,
     "metadata": {},
     "output_type": "execute_result"
    }
   ],
   "source": [
    "# Adjusted R2\n",
    "Adj_R2= 1 - (1-R2)*(len(y_test)-1)/(len(y_test)-X_test.shape[1]-1)\n",
    "Adj_R2"
   ]
  },
  {
   "cell_type": "code",
   "execution_count": 28,
   "id": "ca1f8eb2",
   "metadata": {},
   "outputs": [
    {
     "data": {
      "text/html": [
       "<div>\n",
       "<style scoped>\n",
       "    .dataframe tbody tr th:only-of-type {\n",
       "        vertical-align: middle;\n",
       "    }\n",
       "\n",
       "    .dataframe tbody tr th {\n",
       "        vertical-align: top;\n",
       "    }\n",
       "\n",
       "    .dataframe thead th {\n",
       "        text-align: right;\n",
       "    }\n",
       "</style>\n",
       "<table border=\"1\" class=\"dataframe\">\n",
       "  <thead>\n",
       "    <tr style=\"text-align: right;\">\n",
       "      <th></th>\n",
       "      <th>Attribute</th>\n",
       "      <th>Importance</th>\n",
       "    </tr>\n",
       "  </thead>\n",
       "  <tbody>\n",
       "    <tr>\n",
       "      <th>24</th>\n",
       "      <td>location_code_suburban</td>\n",
       "      <td>183.946119</td>\n",
       "    </tr>\n",
       "    <tr>\n",
       "      <th>3</th>\n",
       "      <td>monthly_premium_auto</td>\n",
       "      <td>179.250296</td>\n",
       "    </tr>\n",
       "    <tr>\n",
       "      <th>25</th>\n",
       "      <td>location_code_urban</td>\n",
       "      <td>84.806650</td>\n",
       "    </tr>\n",
       "    <tr>\n",
       "      <th>22</th>\n",
       "      <td>employment_status_unemployed</td>\n",
       "      <td>37.882093</td>\n",
       "    </tr>\n",
       "    <tr>\n",
       "      <th>27</th>\n",
       "      <td>marital_status_single</td>\n",
       "      <td>30.674372</td>\n",
       "    </tr>\n",
       "    <tr>\n",
       "      <th>11</th>\n",
       "      <td>response_yes</td>\n",
       "      <td>9.077281</td>\n",
       "    </tr>\n",
       "    <tr>\n",
       "      <th>23</th>\n",
       "      <td>gender_m</td>\n",
       "      <td>7.736009</td>\n",
       "    </tr>\n",
       "    <tr>\n",
       "      <th>30</th>\n",
       "      <td>renew_offer_type_offer2</td>\n",
       "      <td>6.961727</td>\n",
       "    </tr>\n",
       "    <tr>\n",
       "      <th>38</th>\n",
       "      <td>vehicle_class_suv</td>\n",
       "      <td>6.032426</td>\n",
       "    </tr>\n",
       "    <tr>\n",
       "      <th>12</th>\n",
       "      <td>coverage_extended</td>\n",
       "      <td>5.622177</td>\n",
       "    </tr>\n",
       "    <tr>\n",
       "      <th>4</th>\n",
       "      <td>months_since_last_claim</td>\n",
       "      <td>4.907659</td>\n",
       "    </tr>\n",
       "    <tr>\n",
       "      <th>37</th>\n",
       "      <td>vehicle_class_sports car</td>\n",
       "      <td>4.861121</td>\n",
       "    </tr>\n",
       "    <tr>\n",
       "      <th>2</th>\n",
       "      <td>income</td>\n",
       "      <td>4.831246</td>\n",
       "    </tr>\n",
       "    <tr>\n",
       "      <th>31</th>\n",
       "      <td>renew_offer_type_offer3</td>\n",
       "      <td>3.989023</td>\n",
       "    </tr>\n",
       "    <tr>\n",
       "      <th>13</th>\n",
       "      <td>coverage_premium</td>\n",
       "      <td>3.960618</td>\n",
       "    </tr>\n",
       "    <tr>\n",
       "      <th>20</th>\n",
       "      <td>employment_status_medical leave</td>\n",
       "      <td>3.822083</td>\n",
       "    </tr>\n",
       "    <tr>\n",
       "      <th>40</th>\n",
       "      <td>vehicle_size_medsize</td>\n",
       "      <td>3.624728</td>\n",
       "    </tr>\n",
       "    <tr>\n",
       "      <th>14</th>\n",
       "      <td>education_college</td>\n",
       "      <td>3.621300</td>\n",
       "    </tr>\n",
       "    <tr>\n",
       "      <th>17</th>\n",
       "      <td>education_master</td>\n",
       "      <td>3.416879</td>\n",
       "    </tr>\n",
       "    <tr>\n",
       "      <th>15</th>\n",
       "      <td>education_doctor</td>\n",
       "      <td>3.317271</td>\n",
       "    </tr>\n",
       "    <tr>\n",
       "      <th>10</th>\n",
       "      <td>region_west region</td>\n",
       "      <td>3.055251</td>\n",
       "    </tr>\n",
       "    <tr>\n",
       "      <th>19</th>\n",
       "      <td>employment_status_employed</td>\n",
       "      <td>2.883748</td>\n",
       "    </tr>\n",
       "    <tr>\n",
       "      <th>8</th>\n",
       "      <td>region_east</td>\n",
       "      <td>2.678871</td>\n",
       "    </tr>\n",
       "    <tr>\n",
       "      <th>36</th>\n",
       "      <td>vehicle_class_luxury</td>\n",
       "      <td>2.542654</td>\n",
       "    </tr>\n",
       "    <tr>\n",
       "      <th>16</th>\n",
       "      <td>education_high school or below</td>\n",
       "      <td>2.406355</td>\n",
       "    </tr>\n",
       "    <tr>\n",
       "      <th>32</th>\n",
       "      <td>renew_offer_type_offer4</td>\n",
       "      <td>2.211346</td>\n",
       "    </tr>\n",
       "    <tr>\n",
       "      <th>6</th>\n",
       "      <td>number_of_open_complaints</td>\n",
       "      <td>1.961407</td>\n",
       "    </tr>\n",
       "    <tr>\n",
       "      <th>29</th>\n",
       "      <td>policy_type_special auto</td>\n",
       "      <td>1.719459</td>\n",
       "    </tr>\n",
       "    <tr>\n",
       "      <th>35</th>\n",
       "      <td>sales_channel_web</td>\n",
       "      <td>1.292435</td>\n",
       "    </tr>\n",
       "    <tr>\n",
       "      <th>0</th>\n",
       "      <td>Unnamed: 0</td>\n",
       "      <td>1.211647</td>\n",
       "    </tr>\n",
       "    <tr>\n",
       "      <th>33</th>\n",
       "      <td>sales_channel_branch</td>\n",
       "      <td>1.092149</td>\n",
       "    </tr>\n",
       "    <tr>\n",
       "      <th>7</th>\n",
       "      <td>number_of_policies</td>\n",
       "      <td>1.079912</td>\n",
       "    </tr>\n",
       "    <tr>\n",
       "      <th>18</th>\n",
       "      <td>month_jan</td>\n",
       "      <td>0.735413</td>\n",
       "    </tr>\n",
       "    <tr>\n",
       "      <th>41</th>\n",
       "      <td>vehicle_size_small</td>\n",
       "      <td>0.644719</td>\n",
       "    </tr>\n",
       "    <tr>\n",
       "      <th>26</th>\n",
       "      <td>marital_status_married</td>\n",
       "      <td>0.602819</td>\n",
       "    </tr>\n",
       "    <tr>\n",
       "      <th>34</th>\n",
       "      <td>sales_channel_call center</td>\n",
       "      <td>0.590258</td>\n",
       "    </tr>\n",
       "    <tr>\n",
       "      <th>5</th>\n",
       "      <td>months_since_policy_inception</td>\n",
       "      <td>0.455516</td>\n",
       "    </tr>\n",
       "    <tr>\n",
       "      <th>28</th>\n",
       "      <td>policy_type_personal auto</td>\n",
       "      <td>0.431295</td>\n",
       "    </tr>\n",
       "    <tr>\n",
       "      <th>9</th>\n",
       "      <td>region_north west</td>\n",
       "      <td>0.143225</td>\n",
       "    </tr>\n",
       "    <tr>\n",
       "      <th>21</th>\n",
       "      <td>employment_status_retired</td>\n",
       "      <td>0.121730</td>\n",
       "    </tr>\n",
       "    <tr>\n",
       "      <th>39</th>\n",
       "      <td>vehicle_class_two-door car</td>\n",
       "      <td>0.029128</td>\n",
       "    </tr>\n",
       "    <tr>\n",
       "      <th>1</th>\n",
       "      <td>customer_lifetime_value</td>\n",
       "      <td>0.010195</td>\n",
       "    </tr>\n",
       "  </tbody>\n",
       "</table>\n",
       "</div>"
      ],
      "text/plain": [
       "                          Attribute  Importance\n",
       "24           location_code_suburban  183.946119\n",
       "3              monthly_premium_auto  179.250296\n",
       "25              location_code_urban   84.806650\n",
       "22     employment_status_unemployed   37.882093\n",
       "27            marital_status_single   30.674372\n",
       "11                     response_yes    9.077281\n",
       "23                         gender_m    7.736009\n",
       "30          renew_offer_type_offer2    6.961727\n",
       "38                vehicle_class_suv    6.032426\n",
       "12                coverage_extended    5.622177\n",
       "4           months_since_last_claim    4.907659\n",
       "37         vehicle_class_sports car    4.861121\n",
       "2                            income    4.831246\n",
       "31          renew_offer_type_offer3    3.989023\n",
       "13                 coverage_premium    3.960618\n",
       "20  employment_status_medical leave    3.822083\n",
       "40             vehicle_size_medsize    3.624728\n",
       "14                education_college    3.621300\n",
       "17                 education_master    3.416879\n",
       "15                 education_doctor    3.317271\n",
       "10               region_west region    3.055251\n",
       "19       employment_status_employed    2.883748\n",
       "8                       region_east    2.678871\n",
       "36             vehicle_class_luxury    2.542654\n",
       "16   education_high school or below    2.406355\n",
       "32          renew_offer_type_offer4    2.211346\n",
       "6         number_of_open_complaints    1.961407\n",
       "29         policy_type_special auto    1.719459\n",
       "35                sales_channel_web    1.292435\n",
       "0                        Unnamed: 0    1.211647\n",
       "33             sales_channel_branch    1.092149\n",
       "7                number_of_policies    1.079912\n",
       "18                        month_jan    0.735413\n",
       "41               vehicle_size_small    0.644719\n",
       "26           marital_status_married    0.602819\n",
       "34        sales_channel_call center    0.590258\n",
       "5     months_since_policy_inception    0.455516\n",
       "28        policy_type_personal auto    0.431295\n",
       "9                 region_north west    0.143225\n",
       "21        employment_status_retired    0.121730\n",
       "39       vehicle_class_two-door car    0.029128\n",
       "1           customer_lifetime_value    0.010195"
      ]
     },
     "execution_count": 28,
     "metadata": {},
     "output_type": "execute_result"
    }
   ],
   "source": [
    "# Feature Importance\n",
    "features_importances = pd.DataFrame(data={'Attribute': X_train.columns,'Importance': abs(model.coef_)})\n",
    "features_importances = features_importances.sort_values(by='Importance', ascending=False)\n",
    "features_importances"
   ]
  },
  {
   "cell_type": "code",
   "execution_count": 30,
   "id": "6f071f7a",
   "metadata": {},
   "outputs": [
    {
     "name": "stdout",
     "output_type": "stream",
     "text": [
      "                            OLS Regression Results                            \n",
      "==============================================================================\n",
      "Dep. Variable:     total_claim_amount   R-squared:                       0.770\n",
      "Model:                            OLS   Adj. R-squared:                  0.769\n",
      "Method:                 Least Squares   F-statistic:                     594.3\n",
      "Date:                Thu, 14 Apr 2022   Prob (F-statistic):               0.00\n",
      "Time:                        17:35:17   Log-Likelihood:                -47639.\n",
      "No. Observations:                7482   AIC:                         9.536e+04\n",
      "Df Residuals:                    7439   BIC:                         9.566e+04\n",
      "Df Model:                          42                                         \n",
      "Covariance Type:            nonrobust                                         \n",
      "==============================================================================\n",
      "                 coef    std err          t      P>|t|      [0.025      0.975]\n",
      "------------------------------------------------------------------------------\n",
      "const        433.0597      1.634    265.031      0.000     429.857     436.263\n",
      "x1             1.2116      1.638      0.740      0.459      -1.999       4.422\n",
      "x2            -0.0102      1.793     -0.006      0.995      -3.524       3.504\n",
      "x3            -4.8312      1.882     -2.567      0.010      -8.521      -1.141\n",
      "x4           179.2503      4.766     37.612      0.000     169.908     188.593\n",
      "x5             4.9077      1.641      2.990      0.003       1.690       8.125\n",
      "x6             0.4555      1.651      0.276      0.783      -2.781       3.692\n",
      "x7             1.9614      1.643      1.194      0.233      -1.259       5.182\n",
      "x8            -1.0799      1.648     -0.655      0.512      -4.311       2.151\n",
      "x9             2.6789      1.791      1.496      0.135      -0.831       6.189\n",
      "x10           -0.1432      1.966     -0.073      0.942      -3.997       3.710\n",
      "x11            3.0553      1.982      1.541      0.123      -0.830       6.941\n",
      "x12           -9.0773      1.769     -5.132      0.000     -12.545      -5.610\n",
      "x13           -5.6222      2.120     -2.652      0.008      -9.778      -1.466\n",
      "x14           -3.9606      2.569     -1.542      0.123      -8.996       1.075\n",
      "x15           -3.6213      1.938     -1.868      0.062      -7.421       0.179\n",
      "x16           -3.3173      1.711     -1.939      0.053      -6.671       0.036\n",
      "x17            2.4064      1.952      1.233      0.218      -1.420       6.233\n",
      "x18           -3.4169      1.778     -1.922      0.055      -6.902       0.069\n",
      "x19           -0.7354      1.639     -0.449      0.654      -3.949       2.478\n",
      "x20           -2.8837      4.163     -0.693      0.488     -11.044       5.277\n",
      "x21            3.8221      2.297      1.664      0.096      -0.680       8.325\n",
      "x22            0.1217      2.108      0.058      0.954      -4.011       4.255\n",
      "x23           37.8821      3.959      9.568      0.000      30.121      45.643\n",
      "x24            7.7360      1.651      4.685      0.000       4.499      10.973\n",
      "x25          183.9461      2.300     79.972      0.000     179.437     188.455\n",
      "x26           84.8066      2.055     41.273      0.000      80.779      88.835\n",
      "x27           -0.6028      2.411     -0.250      0.803      -5.328       4.122\n",
      "x28           30.6744      2.496     12.287      0.000      25.781      35.568\n",
      "x29           -0.4313      1.751     -0.246      0.805      -3.865       3.002\n",
      "x30            1.7195      1.754      0.980      0.327      -1.720       5.159\n",
      "x31            6.9617      1.911      3.643      0.000       3.216      10.708\n",
      "x32            3.9890      1.814      2.199      0.028       0.433       7.545\n",
      "x33            2.2113      1.834      1.206      0.228      -1.384       5.807\n",
      "x34            1.0921      1.855      0.589      0.556      -2.544       4.728\n",
      "x35           -0.5903      1.843     -0.320      0.749      -4.203       3.022\n",
      "x36           -1.2924      1.821     -0.710      0.478      -4.862       2.277\n",
      "x37            2.5427      3.717      0.684      0.494      -4.744       9.829\n",
      "x38           -4.8611      2.114     -2.299      0.022      -9.006      -0.717\n",
      "x39           -6.0324      2.789     -2.163      0.031     -11.500      -0.565\n",
      "x40            0.0291      1.735      0.017      0.987      -3.372       3.430\n",
      "x41           -3.6247      2.474     -1.465      0.143      -8.474       1.224\n",
      "x42           -0.6447      2.488     -0.259      0.796      -5.523       4.233\n",
      "==============================================================================\n",
      "Omnibus:                     3366.318   Durbin-Watson:                   2.031\n",
      "Prob(Omnibus):                  0.000   Jarque-Bera (JB):            43907.530\n",
      "Skew:                           1.806   Prob(JB):                         0.00\n",
      "Kurtosis:                      14.304   Cond. No.                         7.23\n",
      "==============================================================================\n",
      "\n",
      "Notes:\n",
      "[1] Standard Errors assume that the covariance matrix of the errors is correctly specified.\n"
     ]
    }
   ],
   "source": [
    "X_train_const_scaled = sm.add_constant(X_train_scaled)\n",
    "\n",
    "model = sm.OLS(y_train, X_train_const_scaled).fit()\n",
    "predictions_train = model.predict(X_train_const_scaled) \n",
    "\n",
    "X_test_const_scaled = sm.add_constant(X_test_scaled)\n",
    "predictions_test = model.predict(X_test_const_scaled) \n",
    "print_model = model.summary()\n",
    "print(print_model)"
   ]
  },
  {
   "cell_type": "code",
   "execution_count": null,
   "id": "14ac93c3",
   "metadata": {},
   "outputs": [],
   "source": []
  }
 ],
 "metadata": {
  "kernelspec": {
   "display_name": "Python 3 (ipykernel)",
   "language": "python",
   "name": "python3"
  },
  "language_info": {
   "codemirror_mode": {
    "name": "ipython",
    "version": 3
   },
   "file_extension": ".py",
   "mimetype": "text/x-python",
   "name": "python",
   "nbconvert_exporter": "python",
   "pygments_lexer": "ipython3",
   "version": "3.9.7"
  }
 },
 "nbformat": 4,
 "nbformat_minor": 5
}
