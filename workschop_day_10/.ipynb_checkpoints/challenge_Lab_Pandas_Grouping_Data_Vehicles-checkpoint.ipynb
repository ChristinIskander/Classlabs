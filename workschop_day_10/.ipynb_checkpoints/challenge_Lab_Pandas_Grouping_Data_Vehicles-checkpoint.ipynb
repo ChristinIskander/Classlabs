{
 "cells": [
  {
   "cell_type": "markdown",
   "metadata": {
    "id": "N1YkD9XI6Fg3"
   },
   "source": [
    "# Pandas: grouping"
   ]
  },
  {
   "cell_type": "code",
   "execution_count": null,
   "metadata": {
    "executionInfo": {
     "elapsed": 4,
     "status": "ok",
     "timestamp": 1623140082185,
     "user": {
      "displayName": "Ignacio Soteras",
      "photoUrl": "",
      "userId": "02050793736257155229"
     },
     "user_tz": -120
    },
    "id": "jL4kjGt66Fg5"
   },
   "outputs": [],
   "source": [
    "import pandas as pd\n",
    "import numpy as np"
   ]
  },
  {
   "cell_type": "code",
   "execution_count": null,
   "metadata": {
    "executionInfo": {
     "elapsed": 1346,
     "status": "ok",
     "timestamp": 1623140174431,
     "user": {
      "displayName": "Ignacio Soteras",
      "photoUrl": "",
      "userId": "02050793736257155229"
     },
     "user_tz": -120
    },
    "id": "GVHPs2Qa6Fg5"
   },
   "outputs": [],
   "source": [
    "cars = pd.read_csv(\"data/vehicles.csv\")"
   ]
  },
  {
   "cell_type": "code",
   "execution_count": null,
   "metadata": {
    "colab": {
     "base_uri": "https://localhost:8080/",
     "height": 477
    },
    "executionInfo": {
     "elapsed": 233,
     "status": "ok",
     "timestamp": 1623140176638,
     "user": {
      "displayName": "Ignacio Soteras",
      "photoUrl": "",
      "userId": "02050793736257155229"
     },
     "user_tz": -120
    },
    "id": "DseSH7qIPmxQ",
    "outputId": "9954b7e3-8541-4e16-cbce-b5828784b91e"
   },
   "outputs": [],
   "source": [
    "cars.head()"
   ]
  },
  {
   "cell_type": "markdown",
   "metadata": {
    "id": "7sOaJJT_fSx2"
   },
   "source": [
    "How many Car models? "
   ]
  },
  {
   "cell_type": "code",
   "execution_count": null,
   "metadata": {
    "colab": {
     "base_uri": "https://localhost:8080/"
    },
    "executionInfo": {
     "elapsed": 249,
     "status": "ok",
     "timestamp": 1623143296731,
     "user": {
      "displayName": "Ignacio Soteras",
      "photoUrl": "",
      "userId": "02050793736257155229"
     },
     "user_tz": -120
    },
    "id": "w_2EOD5efUOS",
    "outputId": "7b643b35-7639-4033-e882-69996dc301d8"
   },
   "outputs": [],
   "source": [
    "### your code is here"
   ]
  },
  {
   "cell_type": "markdown",
   "metadata": {},
   "source": [
    "group by the data by the Make  using count function"
   ]
  },
  {
   "cell_type": "code",
   "execution_count": null,
   "metadata": {
    "colab": {
     "base_uri": "https://localhost:8080/",
     "height": 544
    },
    "executionInfo": {
     "elapsed": 233,
     "status": "ok",
     "timestamp": 1623143566155,
     "user": {
      "displayName": "Ignacio Soteras",
      "photoUrl": "",
      "userId": "02050793736257155229"
     },
     "user_tz": -120
    },
    "id": "OTxZXCj_48hR",
    "outputId": "b1d1078e-ab91-475e-e94b-b28619722607"
   },
   "outputs": [],
   "source": [
    "### your code us here"
   ]
  },
  {
   "cell_type": "markdown",
   "metadata": {
    "id": "lJMDlBOM6Fg7"
   },
   "source": [
    "What brand has the most cars?"
   ]
  },
  {
   "cell_type": "code",
   "execution_count": null,
   "metadata": {
    "id": "cbk5R7HL6Fg8"
   },
   "outputs": [],
   "source": [
    "### your code us here"
   ]
  },
  {
   "cell_type": "markdown",
   "metadata": {},
   "source": [
    "<b>show the average CO2_Emission_Grams/Km  by Brand"
   ]
  },
  {
   "cell_type": "code",
   "execution_count": null,
   "metadata": {
    "colab": {
     "base_uri": "https://localhost:8080/",
     "height": 437
    },
    "executionInfo": {
     "elapsed": 229,
     "status": "ok",
     "timestamp": 1623145437447,
     "user": {
      "displayName": "Ignacio Soteras",
      "photoUrl": "",
      "userId": "02050793736257155229"
     },
     "user_tz": -120
    },
    "id": "QQ40-Xvcq9Rr",
    "outputId": "517ea5be-6749-4170-c56b-ec950df6f45f"
   },
   "outputs": [],
   "source": [
    "### your code us here"
   ]
  },
  {
   "cell_type": "markdown",
   "metadata": {},
   "source": [
    "<b>show the average CO2_Emission_Grams/Km  by Brand ... sorted"
   ]
  },
  {
   "cell_type": "code",
   "execution_count": null,
   "metadata": {
    "colab": {
     "base_uri": "https://localhost:8080/",
     "height": 437
    },
    "executionInfo": {
     "elapsed": 271,
     "status": "ok",
     "timestamp": 1623145508527,
     "user": {
      "displayName": "Ignacio Soteras",
      "photoUrl": "",
      "userId": "02050793736257155229"
     },
     "user_tz": -120
    },
    "id": "HmkHNbaIAlxR",
    "outputId": "90c966a3-f1cb-4cea-94da-7e3c4654d996"
   },
   "outputs": [],
   "source": [
    "### your code us here"
   ]
  },
  {
   "cell_type": "markdown",
   "metadata": {
    "id": "PQDBkdTO6Fg8"
   },
   "source": [
    "Use `pd.cut` or `pd.qcut` to create 4 groups (bins) of cars, by Year. We want to explore how cars have evolved decade by decade."
   ]
  },
  {
   "cell_type": "code",
   "execution_count": null,
   "metadata": {
    "colab": {
     "base_uri": "https://localhost:8080/"
    },
    "executionInfo": {
     "elapsed": 234,
     "status": "ok",
     "timestamp": 1623145662903,
     "user": {
      "displayName": "Ignacio Soteras",
      "photoUrl": "",
      "userId": "02050793736257155229"
     },
     "user_tz": -120
    },
    "id": "C70ymFKC6Fg8",
    "outputId": "b951d08b-a80a-4e63-ea09-8940423f97ee"
   },
   "outputs": [],
   "source": [
    "cars['Year'].describe()"
   ]
  },
  {
   "cell_type": "code",
   "execution_count": null,
   "metadata": {
    "executionInfo": {
     "elapsed": 229,
     "status": "ok",
     "timestamp": 1623145807038,
     "user": {
      "displayName": "Ignacio Soteras",
      "photoUrl": "",
      "userId": "02050793736257155229"
     },
     "user_tz": -120
    },
    "id": "rhEot_x1rsMg"
   },
   "outputs": [],
   "source": [
    "## your code here"
   ]
  },
  {
   "cell_type": "markdown",
   "metadata": {
    "id": "fmGwGGya6Fg8"
   },
   "source": [
    "### Did cars consume more gas in the eighties?"
   ]
  },
  {
   "cell_type": "markdown",
   "metadata": {
    "colab": {
     "base_uri": "https://localhost:8080/",
     "height": 198
    },
    "executionInfo": {
     "elapsed": 256,
     "status": "ok",
     "timestamp": 1623146140731,
     "user": {
      "displayName": "Ignacio Soteras",
      "photoUrl": "",
      "userId": "02050793736257155229"
     },
     "user_tz": -120
    },
    "id": "_sOkpVbvwulT",
    "outputId": "0d79ee50-8241-4cc6-8e2d-b3bec5770bb6"
   },
   "source": [
    "show the average City_Km/Liter by year_range"
   ]
  },
  {
   "cell_type": "code",
   "execution_count": null,
   "metadata": {},
   "outputs": [],
   "source": [
    "### your code is here"
   ]
  },
  {
   "cell_type": "markdown",
   "metadata": {
    "id": "ZZ96MZrR6Fg9"
   },
   "source": [
    "Which brands are more environment friendly?"
   ]
  },
  {
   "cell_type": "code",
   "execution_count": null,
   "metadata": {
    "colab": {
     "base_uri": "https://localhost:8080/",
     "height": 437
    },
    "executionInfo": {
     "elapsed": 10,
     "status": "ok",
     "timestamp": 1623146393112,
     "user": {
      "displayName": "Ignacio Soteras",
      "photoUrl": "",
      "userId": "02050793736257155229"
     },
     "user_tz": -120
    },
    "id": "7qSlKjqF6Fg9",
    "outputId": "85d66c6b-ac7a-4585-b8af-aad43c4718a7"
   },
   "outputs": [],
   "source": [
    "### your code is here"
   ]
  },
  {
   "cell_type": "markdown",
   "metadata": {
    "id": "dGHYkM8q6Fg9"
   },
   "source": [
    "Does the drivetrain affect fuel consumption?"
   ]
  },
  {
   "cell_type": "code",
   "execution_count": null,
   "metadata": {
    "colab": {
     "base_uri": "https://localhost:8080/",
     "height": 318
    },
    "executionInfo": {
     "elapsed": 245,
     "status": "ok",
     "timestamp": 1623146457215,
     "user": {
      "displayName": "Ignacio Soteras",
      "photoUrl": "",
      "userId": "02050793736257155229"
     },
     "user_tz": -120
    },
    "id": "HVpCAkXk6Fg9",
    "outputId": "da0f2f40-4193-40cf-ad1d-60988b00446c"
   },
   "outputs": [],
   "source": [
    "## Your Code here"
   ]
  },
  {
   "cell_type": "markdown",
   "metadata": {
    "id": "2avLmljX6Fg9"
   },
   "source": [
    "Do cars with automatic transmission consume more fuel than cars with manual transmission?"
   ]
  },
  {
   "cell_type": "code",
   "execution_count": null,
   "metadata": {
    "colab": {
     "base_uri": "https://localhost:8080/",
     "height": 138
    },
    "executionInfo": {
     "elapsed": 246,
     "status": "ok",
     "timestamp": 1623146549152,
     "user": {
      "displayName": "Ignacio Soteras",
      "photoUrl": "",
      "userId": "02050793736257155229"
     },
     "user_tz": -120
    },
    "id": "VZv72ngN6Fg9",
    "outputId": "88712749-0f24-4cc6-a007-0b05f79e885d"
   },
   "outputs": [],
   "source": [
    "## Your Code here"
   ]
  },
  {
   "cell_type": "markdown",
   "metadata": {
    "id": "tJsmxD3K6Fg9"
   },
   "source": [
    "Use `groupby` and `aggregate` with different aggregation measures for different columns:"
   ]
  },
  {
   "cell_type": "markdown",
   "metadata": {},
   "source": [
    "aggregate with average City_Km/Liter and the count of the Trans"
   ]
  },
  {
   "cell_type": "code",
   "execution_count": null,
   "metadata": {
    "colab": {
     "base_uri": "https://localhost:8080/",
     "height": 138
    },
    "executionInfo": {
     "elapsed": 268,
     "status": "ok",
     "timestamp": 1623146659201,
     "user": {
      "displayName": "Ignacio Soteras",
      "photoUrl": "",
      "userId": "02050793736257155229"
     },
     "user_tz": -120
    },
    "id": "1rVFzsdG6Fg9",
    "outputId": "ad726e32-d3d9-4d69-b9e8-c7ae43a40c96"
   },
   "outputs": [],
   "source": [
    "## your code is here"
   ]
  },
  {
   "cell_type": "markdown",
   "metadata": {},
   "source": [
    "aggregate with average City_Km/Liter and the minimum of the Trans"
   ]
  },
  {
   "cell_type": "code",
   "execution_count": null,
   "metadata": {
    "colab": {
     "base_uri": "https://localhost:8080/",
     "height": 138
    },
    "executionInfo": {
     "elapsed": 228,
     "status": "ok",
     "timestamp": 1623147799942,
     "user": {
      "displayName": "Ignacio Soteras",
      "photoUrl": "",
      "userId": "02050793736257155229"
     },
     "user_tz": -120
    },
    "id": "qsrSdXAdJWAO",
    "outputId": "89b30e64-6827-4ac0-f386-87bedec3fd4b"
   },
   "outputs": [],
   "source": [
    "### your code is here"
   ]
  },
  {
   "cell_type": "code",
   "execution_count": null,
   "metadata": {},
   "outputs": [],
   "source": []
  }
 ],
 "metadata": {
  "colab": {
   "name": "Pandas_Grouping_Joining_Cars_Structure.ipynb",
   "provenance": []
  },
  "kernelspec": {
   "display_name": "Python 3 (ipykernel)",
   "language": "python",
   "name": "python3"
  },
  "language_info": {
   "codemirror_mode": {
    "name": "ipython",
    "version": 3
   },
   "file_extension": ".py",
   "mimetype": "text/x-python",
   "name": "python",
   "nbconvert_exporter": "python",
   "pygments_lexer": "ipython3",
   "version": "3.9.7"
  },
  "toc": {
   "base_numbering": 1,
   "nav_menu": {},
   "number_sections": true,
   "sideBar": true,
   "skip_h1_title": false,
   "title_cell": "Table of Contents",
   "title_sidebar": "Contents",
   "toc_cell": false,
   "toc_position": {},
   "toc_section_display": true,
   "toc_window_display": false
  },
  "varInspector": {
   "cols": {
    "lenName": 16,
    "lenType": 16,
    "lenVar": 40
   },
   "kernels_config": {
    "python": {
     "delete_cmd_postfix": "",
     "delete_cmd_prefix": "del ",
     "library": "var_list.py",
     "varRefreshCmd": "print(var_dic_list())"
    },
    "r": {
     "delete_cmd_postfix": ") ",
     "delete_cmd_prefix": "rm(",
     "library": "var_list.r",
     "varRefreshCmd": "cat(var_dic_list()) "
    }
   },
   "types_to_exclude": [
    "module",
    "function",
    "builtin_function_or_method",
    "instance",
    "_Feature"
   ],
   "window_display": false
  }
 },
 "nbformat": 4,
 "nbformat_minor": 1
}
