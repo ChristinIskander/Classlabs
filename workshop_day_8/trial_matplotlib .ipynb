{
 "cells": [
  {
   "cell_type": "code",
   "execution_count": 1,
   "id": "309bd5db",
   "metadata": {},
   "outputs": [],
   "source": [
    "import pandas as pd\n",
    "import numpy as np\n",
    "import matplotlib.pyplot as plt\n",
    "import seaborn as sns\n",
    "%matplotlib inline"
   ]
  },
  {
   "cell_type": "code",
   "execution_count": 2,
   "id": "d32a8c6c",
   "metadata": {},
   "outputs": [],
   "source": [
    "x=np.arange(0, 21)\n",
    "y=x+2"
   ]
  },
  {
   "cell_type": "code",
   "execution_count": 15,
   "id": "bc9eb5b0",
   "metadata": {},
   "outputs": [
    {
     "data": {
      "text/plain": [
       "[<matplotlib.lines.Line2D at 0x7fd0bab00400>]"
      ]
     },
     "execution_count": 15,
     "metadata": {},
     "output_type": "execute_result"
    },
    {
     "data": {
      "image/png": "[encoded data removed]",
      "text/plain": [
       "<Figure size 432x288 with 2 Axes>"
      ]
     },
     "metadata": {
      "needs_background": "light"
     },
     "output_type": "display_data"
    }
   ],
   "source": [
    "plt.figure()\n",
    "plt.plot (x,y)\n",
    "plt.title (\"this is the first plot\")\n",
    "\n",
    "plt.subplot (1,2,1)\n",
    "y1=x*2\n",
    "plt.plot (x, y1)\n",
    "plt.subplot (1,2,2)\n",
    "y2=x*2\n",
    "plt.plot (x, y2, color=\"purple\")"
   ]
  },
  {
   "cell_type": "code",
   "execution_count": null,
   "id": "17270669",
   "metadata": {},
   "outputs": [],
   "source": []
  },
  {
   "cell_type": "code",
   "execution_count": null,
   "id": "60844b33",
   "metadata": {},
   "outputs": [],
   "source": []
  }
 ],
 "metadata": {
  "kernelspec": {
   "display_name": "Python 3 (ipykernel)",
   "language": "python",
   "name": "python3"
  },
  "language_info": {
   "codemirror_mode": {
    "name": "ipython",
    "version": 3
   },
   "file_extension": ".py",
   "mimetype": "text/x-python",
   "name": "python",
   "nbconvert_exporter": "python",
   "pygments_lexer": "ipython3",
   "version": "3.9.7"
  }
 },
 "nbformat": 4,
 "nbformat_minor": 5
}
